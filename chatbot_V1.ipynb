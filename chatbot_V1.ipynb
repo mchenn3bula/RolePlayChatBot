{
  "nbformat": 4,
  "nbformat_minor": 0,
  "metadata": {
    "colab": {
      "provenance": [],
      "machine_shape": "hm",
      "gpuType": "A100"
    },
    "kernelspec": {
      "name": "python3",
      "display_name": "Python 3"
    },
    "language_info": {
      "name": "python"
    },
    "accelerator": "GPU",
    "widgets": {
      "application/vnd.jupyter.widget-state+json": {
        "dec0d2a8b7ad400dbc6c96dce95904fb": {
          "model_module": "@jupyter-widgets/controls",
          "model_name": "HBoxModel",
          "model_module_version": "1.5.0",
          "state": {
            "_dom_classes": [],
            "_model_module": "@jupyter-widgets/controls",
            "_model_module_version": "1.5.0",
            "_model_name": "HBoxModel",
            "_view_count": null,
            "_view_module": "@jupyter-widgets/controls",
            "_view_module_version": "1.5.0",
            "_view_name": "HBoxView",
            "box_style": "",
            "children": [
              "IPY_MODEL_3cc486ac73a743fd8ce51be4949638e6",
              "IPY_MODEL_c5859ba5f031436daa014ad7b8167666",
              "IPY_MODEL_3293cde8202d45a1ab727d2271a234d9"
            ],
            "layout": "IPY_MODEL_7e15a10453134bcdba859d6f0c2b5c18"
          }
        },
        "3cc486ac73a743fd8ce51be4949638e6": {
          "model_module": "@jupyter-widgets/controls",
          "model_name": "HTMLModel",
          "model_module_version": "1.5.0",
          "state": {
            "_dom_classes": [],
            "_model_module": "@jupyter-widgets/controls",
            "_model_module_version": "1.5.0",
            "_model_name": "HTMLModel",
            "_view_count": null,
            "_view_module": "@jupyter-widgets/controls",
            "_view_module_version": "1.5.0",
            "_view_name": "HTMLView",
            "description": "",
            "description_tooltip": null,
            "layout": "IPY_MODEL_0558f9fd938e41ee90536a6e63fc801f",
            "placeholder": "​",
            "style": "IPY_MODEL_fba317b8fe1c4dc0b10ad225a9ea2b1d",
            "value": "Grouping: "
          }
        },
        "c5859ba5f031436daa014ad7b8167666": {
          "model_module": "@jupyter-widgets/controls",
          "model_name": "FloatProgressModel",
          "model_module_version": "1.5.0",
          "state": {
            "_dom_classes": [],
            "_model_module": "@jupyter-widgets/controls",
            "_model_module_version": "1.5.0",
            "_model_name": "FloatProgressModel",
            "_view_count": null,
            "_view_module": "@jupyter-widgets/controls",
            "_view_module_version": "1.5.0",
            "_view_name": "ProgressView",
            "bar_style": "success",
            "description": "",
            "description_tooltip": null,
            "layout": "IPY_MODEL_c396b6be655d4eaeb1c92175aaee6e63",
            "max": 1,
            "min": 0,
            "orientation": "horizontal",
            "style": "IPY_MODEL_d203d69b38d74536a418243f3566842a",
            "value": 1
          }
        },
        "3293cde8202d45a1ab727d2271a234d9": {
          "model_module": "@jupyter-widgets/controls",
          "model_name": "HTMLModel",
          "model_module_version": "1.5.0",
          "state": {
            "_dom_classes": [],
            "_model_module": "@jupyter-widgets/controls",
            "_model_module_version": "1.5.0",
            "_model_name": "HTMLModel",
            "_view_count": null,
            "_view_module": "@jupyter-widgets/controls",
            "_view_module_version": "1.5.0",
            "_view_name": "HTMLView",
            "description": "",
            "description_tooltip": null,
            "layout": "IPY_MODEL_7059ad13f32f456f8f3274d3cb2f135d",
            "placeholder": "​",
            "style": "IPY_MODEL_06c6aa3ac9fa4104984369ea6c11210a",
            "value": " 261071/? [00:53&lt;00:00, 5837.53it/s]"
          }
        },
        "7e15a10453134bcdba859d6f0c2b5c18": {
          "model_module": "@jupyter-widgets/base",
          "model_name": "LayoutModel",
          "model_module_version": "1.2.0",
          "state": {
            "_model_module": "@jupyter-widgets/base",
            "_model_module_version": "1.2.0",
            "_model_name": "LayoutModel",
            "_view_count": null,
            "_view_module": "@jupyter-widgets/base",
            "_view_module_version": "1.2.0",
            "_view_name": "LayoutView",
            "align_content": null,
            "align_items": null,
            "align_self": null,
            "border": null,
            "bottom": null,
            "display": null,
            "flex": null,
            "flex_flow": null,
            "grid_area": null,
            "grid_auto_columns": null,
            "grid_auto_flow": null,
            "grid_auto_rows": null,
            "grid_column": null,
            "grid_gap": null,
            "grid_row": null,
            "grid_template_areas": null,
            "grid_template_columns": null,
            "grid_template_rows": null,
            "height": null,
            "justify_content": null,
            "justify_items": null,
            "left": null,
            "margin": null,
            "max_height": null,
            "max_width": null,
            "min_height": null,
            "min_width": null,
            "object_fit": null,
            "object_position": null,
            "order": null,
            "overflow": null,
            "overflow_x": null,
            "overflow_y": null,
            "padding": null,
            "right": null,
            "top": null,
            "visibility": null,
            "width": null
          }
        },
        "0558f9fd938e41ee90536a6e63fc801f": {
          "model_module": "@jupyter-widgets/base",
          "model_name": "LayoutModel",
          "model_module_version": "1.2.0",
          "state": {
            "_model_module": "@jupyter-widgets/base",
            "_model_module_version": "1.2.0",
            "_model_name": "LayoutModel",
            "_view_count": null,
            "_view_module": "@jupyter-widgets/base",
            "_view_module_version": "1.2.0",
            "_view_name": "LayoutView",
            "align_content": null,
            "align_items": null,
            "align_self": null,
            "border": null,
            "bottom": null,
            "display": null,
            "flex": null,
            "flex_flow": null,
            "grid_area": null,
            "grid_auto_columns": null,
            "grid_auto_flow": null,
            "grid_auto_rows": null,
            "grid_column": null,
            "grid_gap": null,
            "grid_row": null,
            "grid_template_areas": null,
            "grid_template_columns": null,
            "grid_template_rows": null,
            "height": null,
            "justify_content": null,
            "justify_items": null,
            "left": null,
            "margin": null,
            "max_height": null,
            "max_width": null,
            "min_height": null,
            "min_width": null,
            "object_fit": null,
            "object_position": null,
            "order": null,
            "overflow": null,
            "overflow_x": null,
            "overflow_y": null,
            "padding": null,
            "right": null,
            "top": null,
            "visibility": null,
            "width": null
          }
        },
        "fba317b8fe1c4dc0b10ad225a9ea2b1d": {
          "model_module": "@jupyter-widgets/controls",
          "model_name": "DescriptionStyleModel",
          "model_module_version": "1.5.0",
          "state": {
            "_model_module": "@jupyter-widgets/controls",
            "_model_module_version": "1.5.0",
            "_model_name": "DescriptionStyleModel",
            "_view_count": null,
            "_view_module": "@jupyter-widgets/base",
            "_view_module_version": "1.2.0",
            "_view_name": "StyleView",
            "description_width": ""
          }
        },
        "c396b6be655d4eaeb1c92175aaee6e63": {
          "model_module": "@jupyter-widgets/base",
          "model_name": "LayoutModel",
          "model_module_version": "1.2.0",
          "state": {
            "_model_module": "@jupyter-widgets/base",
            "_model_module_version": "1.2.0",
            "_model_name": "LayoutModel",
            "_view_count": null,
            "_view_module": "@jupyter-widgets/base",
            "_view_module_version": "1.2.0",
            "_view_name": "LayoutView",
            "align_content": null,
            "align_items": null,
            "align_self": null,
            "border": null,
            "bottom": null,
            "display": null,
            "flex": null,
            "flex_flow": null,
            "grid_area": null,
            "grid_auto_columns": null,
            "grid_auto_flow": null,
            "grid_auto_rows": null,
            "grid_column": null,
            "grid_gap": null,
            "grid_row": null,
            "grid_template_areas": null,
            "grid_template_columns": null,
            "grid_template_rows": null,
            "height": null,
            "justify_content": null,
            "justify_items": null,
            "left": null,
            "margin": null,
            "max_height": null,
            "max_width": null,
            "min_height": null,
            "min_width": null,
            "object_fit": null,
            "object_position": null,
            "order": null,
            "overflow": null,
            "overflow_x": null,
            "overflow_y": null,
            "padding": null,
            "right": null,
            "top": null,
            "visibility": null,
            "width": "20px"
          }
        },
        "d203d69b38d74536a418243f3566842a": {
          "model_module": "@jupyter-widgets/controls",
          "model_name": "ProgressStyleModel",
          "model_module_version": "1.5.0",
          "state": {
            "_model_module": "@jupyter-widgets/controls",
            "_model_module_version": "1.5.0",
            "_model_name": "ProgressStyleModel",
            "_view_count": null,
            "_view_module": "@jupyter-widgets/base",
            "_view_module_version": "1.2.0",
            "_view_name": "StyleView",
            "bar_color": null,
            "description_width": ""
          }
        },
        "7059ad13f32f456f8f3274d3cb2f135d": {
          "model_module": "@jupyter-widgets/base",
          "model_name": "LayoutModel",
          "model_module_version": "1.2.0",
          "state": {
            "_model_module": "@jupyter-widgets/base",
            "_model_module_version": "1.2.0",
            "_model_name": "LayoutModel",
            "_view_count": null,
            "_view_module": "@jupyter-widgets/base",
            "_view_module_version": "1.2.0",
            "_view_name": "LayoutView",
            "align_content": null,
            "align_items": null,
            "align_self": null,
            "border": null,
            "bottom": null,
            "display": null,
            "flex": null,
            "flex_flow": null,
            "grid_area": null,
            "grid_auto_columns": null,
            "grid_auto_flow": null,
            "grid_auto_rows": null,
            "grid_column": null,
            "grid_gap": null,
            "grid_row": null,
            "grid_template_areas": null,
            "grid_template_columns": null,
            "grid_template_rows": null,
            "height": null,
            "justify_content": null,
            "justify_items": null,
            "left": null,
            "margin": null,
            "max_height": null,
            "max_width": null,
            "min_height": null,
            "min_width": null,
            "object_fit": null,
            "object_position": null,
            "order": null,
            "overflow": null,
            "overflow_x": null,
            "overflow_y": null,
            "padding": null,
            "right": null,
            "top": null,
            "visibility": null,
            "width": null
          }
        },
        "06c6aa3ac9fa4104984369ea6c11210a": {
          "model_module": "@jupyter-widgets/controls",
          "model_name": "DescriptionStyleModel",
          "model_module_version": "1.5.0",
          "state": {
            "_model_module": "@jupyter-widgets/controls",
            "_model_module_version": "1.5.0",
            "_model_name": "DescriptionStyleModel",
            "_view_count": null,
            "_view_module": "@jupyter-widgets/base",
            "_view_module_version": "1.2.0",
            "_view_name": "StyleView",
            "description_width": ""
          }
        },
        "191a017ff01f423a9784c3032c4c944f": {
          "model_module": "@jupyter-widgets/controls",
          "model_name": "HBoxModel",
          "model_module_version": "1.5.0",
          "state": {
            "_dom_classes": [],
            "_model_module": "@jupyter-widgets/controls",
            "_model_module_version": "1.5.0",
            "_model_name": "HBoxModel",
            "_view_count": null,
            "_view_module": "@jupyter-widgets/controls",
            "_view_module_version": "1.5.0",
            "_view_name": "HBoxView",
            "box_style": "",
            "children": [
              "IPY_MODEL_1cf2a2fa688944fba0458ce5a9592b38",
              "IPY_MODEL_40498184f827460b9c4a445eb06b6503",
              "IPY_MODEL_69c46a8dec0441db9aa83e4849576e6e"
            ],
            "layout": "IPY_MODEL_ba4d6d3afb8a4544b56d958c4260e9f1"
          }
        },
        "1cf2a2fa688944fba0458ce5a9592b38": {
          "model_module": "@jupyter-widgets/controls",
          "model_name": "HTMLModel",
          "model_module_version": "1.5.0",
          "state": {
            "_dom_classes": [],
            "_model_module": "@jupyter-widgets/controls",
            "_model_module_version": "1.5.0",
            "_model_name": "HTMLModel",
            "_view_count": null,
            "_view_module": "@jupyter-widgets/controls",
            "_view_module_version": "1.5.0",
            "_view_name": "HTMLView",
            "description": "",
            "description_tooltip": null,
            "layout": "IPY_MODEL_1f4fe87e5e4f4c40a2349b0e38f795c4",
            "placeholder": "​",
            "style": "IPY_MODEL_9e04daebea4543aabbcb3b6b4e920392",
            "value": "Saving the dataset (2/2 shards): 100%"
          }
        },
        "40498184f827460b9c4a445eb06b6503": {
          "model_module": "@jupyter-widgets/controls",
          "model_name": "FloatProgressModel",
          "model_module_version": "1.5.0",
          "state": {
            "_dom_classes": [],
            "_model_module": "@jupyter-widgets/controls",
            "_model_module_version": "1.5.0",
            "_model_name": "FloatProgressModel",
            "_view_count": null,
            "_view_module": "@jupyter-widgets/controls",
            "_view_module_version": "1.5.0",
            "_view_name": "ProgressView",
            "bar_style": "success",
            "description": "",
            "description_tooltip": null,
            "layout": "IPY_MODEL_09a9cb4545f343cd802a6d20c6a3f15b",
            "max": 176828,
            "min": 0,
            "orientation": "horizontal",
            "style": "IPY_MODEL_05c18540e5b64db3a7ca473ca2d26267",
            "value": 176828
          }
        },
        "69c46a8dec0441db9aa83e4849576e6e": {
          "model_module": "@jupyter-widgets/controls",
          "model_name": "HTMLModel",
          "model_module_version": "1.5.0",
          "state": {
            "_dom_classes": [],
            "_model_module": "@jupyter-widgets/controls",
            "_model_module_version": "1.5.0",
            "_model_name": "HTMLModel",
            "_view_count": null,
            "_view_module": "@jupyter-widgets/controls",
            "_view_module_version": "1.5.0",
            "_view_name": "HTMLView",
            "description": "",
            "description_tooltip": null,
            "layout": "IPY_MODEL_f305f42b2a514b76ab4ff86cc07a0464",
            "placeholder": "​",
            "style": "IPY_MODEL_535ee97f90fb42afbf039c7ebb6a1b26",
            "value": " 176828/176828 [00:00&lt;00:00, 320037.72 examples/s]"
          }
        },
        "ba4d6d3afb8a4544b56d958c4260e9f1": {
          "model_module": "@jupyter-widgets/base",
          "model_name": "LayoutModel",
          "model_module_version": "1.2.0",
          "state": {
            "_model_module": "@jupyter-widgets/base",
            "_model_module_version": "1.2.0",
            "_model_name": "LayoutModel",
            "_view_count": null,
            "_view_module": "@jupyter-widgets/base",
            "_view_module_version": "1.2.0",
            "_view_name": "LayoutView",
            "align_content": null,
            "align_items": null,
            "align_self": null,
            "border": null,
            "bottom": null,
            "display": null,
            "flex": null,
            "flex_flow": null,
            "grid_area": null,
            "grid_auto_columns": null,
            "grid_auto_flow": null,
            "grid_auto_rows": null,
            "grid_column": null,
            "grid_gap": null,
            "grid_row": null,
            "grid_template_areas": null,
            "grid_template_columns": null,
            "grid_template_rows": null,
            "height": null,
            "justify_content": null,
            "justify_items": null,
            "left": null,
            "margin": null,
            "max_height": null,
            "max_width": null,
            "min_height": null,
            "min_width": null,
            "object_fit": null,
            "object_position": null,
            "order": null,
            "overflow": null,
            "overflow_x": null,
            "overflow_y": null,
            "padding": null,
            "right": null,
            "top": null,
            "visibility": null,
            "width": null
          }
        },
        "1f4fe87e5e4f4c40a2349b0e38f795c4": {
          "model_module": "@jupyter-widgets/base",
          "model_name": "LayoutModel",
          "model_module_version": "1.2.0",
          "state": {
            "_model_module": "@jupyter-widgets/base",
            "_model_module_version": "1.2.0",
            "_model_name": "LayoutModel",
            "_view_count": null,
            "_view_module": "@jupyter-widgets/base",
            "_view_module_version": "1.2.0",
            "_view_name": "LayoutView",
            "align_content": null,
            "align_items": null,
            "align_self": null,
            "border": null,
            "bottom": null,
            "display": null,
            "flex": null,
            "flex_flow": null,
            "grid_area": null,
            "grid_auto_columns": null,
            "grid_auto_flow": null,
            "grid_auto_rows": null,
            "grid_column": null,
            "grid_gap": null,
            "grid_row": null,
            "grid_template_areas": null,
            "grid_template_columns": null,
            "grid_template_rows": null,
            "height": null,
            "justify_content": null,
            "justify_items": null,
            "left": null,
            "margin": null,
            "max_height": null,
            "max_width": null,
            "min_height": null,
            "min_width": null,
            "object_fit": null,
            "object_position": null,
            "order": null,
            "overflow": null,
            "overflow_x": null,
            "overflow_y": null,
            "padding": null,
            "right": null,
            "top": null,
            "visibility": null,
            "width": null
          }
        },
        "9e04daebea4543aabbcb3b6b4e920392": {
          "model_module": "@jupyter-widgets/controls",
          "model_name": "DescriptionStyleModel",
          "model_module_version": "1.5.0",
          "state": {
            "_model_module": "@jupyter-widgets/controls",
            "_model_module_version": "1.5.0",
            "_model_name": "DescriptionStyleModel",
            "_view_count": null,
            "_view_module": "@jupyter-widgets/base",
            "_view_module_version": "1.2.0",
            "_view_name": "StyleView",
            "description_width": ""
          }
        },
        "09a9cb4545f343cd802a6d20c6a3f15b": {
          "model_module": "@jupyter-widgets/base",
          "model_name": "LayoutModel",
          "model_module_version": "1.2.0",
          "state": {
            "_model_module": "@jupyter-widgets/base",
            "_model_module_version": "1.2.0",
            "_model_name": "LayoutModel",
            "_view_count": null,
            "_view_module": "@jupyter-widgets/base",
            "_view_module_version": "1.2.0",
            "_view_name": "LayoutView",
            "align_content": null,
            "align_items": null,
            "align_self": null,
            "border": null,
            "bottom": null,
            "display": null,
            "flex": null,
            "flex_flow": null,
            "grid_area": null,
            "grid_auto_columns": null,
            "grid_auto_flow": null,
            "grid_auto_rows": null,
            "grid_column": null,
            "grid_gap": null,
            "grid_row": null,
            "grid_template_areas": null,
            "grid_template_columns": null,
            "grid_template_rows": null,
            "height": null,
            "justify_content": null,
            "justify_items": null,
            "left": null,
            "margin": null,
            "max_height": null,
            "max_width": null,
            "min_height": null,
            "min_width": null,
            "object_fit": null,
            "object_position": null,
            "order": null,
            "overflow": null,
            "overflow_x": null,
            "overflow_y": null,
            "padding": null,
            "right": null,
            "top": null,
            "visibility": null,
            "width": null
          }
        },
        "05c18540e5b64db3a7ca473ca2d26267": {
          "model_module": "@jupyter-widgets/controls",
          "model_name": "ProgressStyleModel",
          "model_module_version": "1.5.0",
          "state": {
            "_model_module": "@jupyter-widgets/controls",
            "_model_module_version": "1.5.0",
            "_model_name": "ProgressStyleModel",
            "_view_count": null,
            "_view_module": "@jupyter-widgets/base",
            "_view_module_version": "1.2.0",
            "_view_name": "StyleView",
            "bar_color": null,
            "description_width": ""
          }
        },
        "f305f42b2a514b76ab4ff86cc07a0464": {
          "model_module": "@jupyter-widgets/base",
          "model_name": "LayoutModel",
          "model_module_version": "1.2.0",
          "state": {
            "_model_module": "@jupyter-widgets/base",
            "_model_module_version": "1.2.0",
            "_model_name": "LayoutModel",
            "_view_count": null,
            "_view_module": "@jupyter-widgets/base",
            "_view_module_version": "1.2.0",
            "_view_name": "LayoutView",
            "align_content": null,
            "align_items": null,
            "align_self": null,
            "border": null,
            "bottom": null,
            "display": null,
            "flex": null,
            "flex_flow": null,
            "grid_area": null,
            "grid_auto_columns": null,
            "grid_auto_flow": null,
            "grid_auto_rows": null,
            "grid_column": null,
            "grid_gap": null,
            "grid_row": null,
            "grid_template_areas": null,
            "grid_template_columns": null,
            "grid_template_rows": null,
            "height": null,
            "justify_content": null,
            "justify_items": null,
            "left": null,
            "margin": null,
            "max_height": null,
            "max_width": null,
            "min_height": null,
            "min_width": null,
            "object_fit": null,
            "object_position": null,
            "order": null,
            "overflow": null,
            "overflow_x": null,
            "overflow_y": null,
            "padding": null,
            "right": null,
            "top": null,
            "visibility": null,
            "width": null
          }
        },
        "535ee97f90fb42afbf039c7ebb6a1b26": {
          "model_module": "@jupyter-widgets/controls",
          "model_name": "DescriptionStyleModel",
          "model_module_version": "1.5.0",
          "state": {
            "_model_module": "@jupyter-widgets/controls",
            "_model_module_version": "1.5.0",
            "_model_name": "DescriptionStyleModel",
            "_view_count": null,
            "_view_module": "@jupyter-widgets/base",
            "_view_module_version": "1.2.0",
            "_view_name": "StyleView",
            "description_width": ""
          }
        },
        "07f9ae0043c841f48b489a1ff33ac2cc": {
          "model_module": "@jupyter-widgets/controls",
          "model_name": "HBoxModel",
          "model_module_version": "1.5.0",
          "state": {
            "_dom_classes": [],
            "_model_module": "@jupyter-widgets/controls",
            "_model_module_version": "1.5.0",
            "_model_name": "HBoxModel",
            "_view_count": null,
            "_view_module": "@jupyter-widgets/controls",
            "_view_module_version": "1.5.0",
            "_view_name": "HBoxView",
            "box_style": "",
            "children": [
              "IPY_MODEL_d395d8f185414c3b8105a75adb189ea3",
              "IPY_MODEL_6aae6146673545eab59a62e38a9ca161",
              "IPY_MODEL_9373335d56554b1ca25a3c46abb4dd98"
            ],
            "layout": "IPY_MODEL_702f6955f25f489face2aae810f0b7a2"
          }
        },
        "d395d8f185414c3b8105a75adb189ea3": {
          "model_module": "@jupyter-widgets/controls",
          "model_name": "HTMLModel",
          "model_module_version": "1.5.0",
          "state": {
            "_dom_classes": [],
            "_model_module": "@jupyter-widgets/controls",
            "_model_module_version": "1.5.0",
            "_model_name": "HTMLModel",
            "_view_count": null,
            "_view_module": "@jupyter-widgets/controls",
            "_view_module_version": "1.5.0",
            "_view_name": "HTMLView",
            "description": "",
            "description_tooltip": null,
            "layout": "IPY_MODEL_febdf1ecbd9c47abb646612bd633c61f",
            "placeholder": "​",
            "style": "IPY_MODEL_de603cc6a38843c5a3cc439158381186",
            "value": "Saving the dataset (1/1 shards): 100%"
          }
        },
        "6aae6146673545eab59a62e38a9ca161": {
          "model_module": "@jupyter-widgets/controls",
          "model_name": "FloatProgressModel",
          "model_module_version": "1.5.0",
          "state": {
            "_dom_classes": [],
            "_model_module": "@jupyter-widgets/controls",
            "_model_module_version": "1.5.0",
            "_model_name": "FloatProgressModel",
            "_view_count": null,
            "_view_module": "@jupyter-widgets/controls",
            "_view_module_version": "1.5.0",
            "_view_name": "ProgressView",
            "bar_style": "success",
            "description": "",
            "description_tooltip": null,
            "layout": "IPY_MODEL_bcfea681d088452a8f3f7026858f6e4a",
            "max": 73396,
            "min": 0,
            "orientation": "horizontal",
            "style": "IPY_MODEL_bfdfc5275df64a2e9a9bbe05da94b594",
            "value": 73396
          }
        },
        "9373335d56554b1ca25a3c46abb4dd98": {
          "model_module": "@jupyter-widgets/controls",
          "model_name": "HTMLModel",
          "model_module_version": "1.5.0",
          "state": {
            "_dom_classes": [],
            "_model_module": "@jupyter-widgets/controls",
            "_model_module_version": "1.5.0",
            "_model_name": "HTMLModel",
            "_view_count": null,
            "_view_module": "@jupyter-widgets/controls",
            "_view_module_version": "1.5.0",
            "_view_name": "HTMLView",
            "description": "",
            "description_tooltip": null,
            "layout": "IPY_MODEL_b8efbf15bd5b4be6bbe4f7f7168c4f36",
            "placeholder": "​",
            "style": "IPY_MODEL_12b01c5df6424aaab6c4779fefbc22e5",
            "value": " 73396/73396 [00:00&lt;00:00, 308692.85 examples/s]"
          }
        },
        "702f6955f25f489face2aae810f0b7a2": {
          "model_module": "@jupyter-widgets/base",
          "model_name": "LayoutModel",
          "model_module_version": "1.2.0",
          "state": {
            "_model_module": "@jupyter-widgets/base",
            "_model_module_version": "1.2.0",
            "_model_name": "LayoutModel",
            "_view_count": null,
            "_view_module": "@jupyter-widgets/base",
            "_view_module_version": "1.2.0",
            "_view_name": "LayoutView",
            "align_content": null,
            "align_items": null,
            "align_self": null,
            "border": null,
            "bottom": null,
            "display": null,
            "flex": null,
            "flex_flow": null,
            "grid_area": null,
            "grid_auto_columns": null,
            "grid_auto_flow": null,
            "grid_auto_rows": null,
            "grid_column": null,
            "grid_gap": null,
            "grid_row": null,
            "grid_template_areas": null,
            "grid_template_columns": null,
            "grid_template_rows": null,
            "height": null,
            "justify_content": null,
            "justify_items": null,
            "left": null,
            "margin": null,
            "max_height": null,
            "max_width": null,
            "min_height": null,
            "min_width": null,
            "object_fit": null,
            "object_position": null,
            "order": null,
            "overflow": null,
            "overflow_x": null,
            "overflow_y": null,
            "padding": null,
            "right": null,
            "top": null,
            "visibility": null,
            "width": null
          }
        },
        "febdf1ecbd9c47abb646612bd633c61f": {
          "model_module": "@jupyter-widgets/base",
          "model_name": "LayoutModel",
          "model_module_version": "1.2.0",
          "state": {
            "_model_module": "@jupyter-widgets/base",
            "_model_module_version": "1.2.0",
            "_model_name": "LayoutModel",
            "_view_count": null,
            "_view_module": "@jupyter-widgets/base",
            "_view_module_version": "1.2.0",
            "_view_name": "LayoutView",
            "align_content": null,
            "align_items": null,
            "align_self": null,
            "border": null,
            "bottom": null,
            "display": null,
            "flex": null,
            "flex_flow": null,
            "grid_area": null,
            "grid_auto_columns": null,
            "grid_auto_flow": null,
            "grid_auto_rows": null,
            "grid_column": null,
            "grid_gap": null,
            "grid_row": null,
            "grid_template_areas": null,
            "grid_template_columns": null,
            "grid_template_rows": null,
            "height": null,
            "justify_content": null,
            "justify_items": null,
            "left": null,
            "margin": null,
            "max_height": null,
            "max_width": null,
            "min_height": null,
            "min_width": null,
            "object_fit": null,
            "object_position": null,
            "order": null,
            "overflow": null,
            "overflow_x": null,
            "overflow_y": null,
            "padding": null,
            "right": null,
            "top": null,
            "visibility": null,
            "width": null
          }
        },
        "de603cc6a38843c5a3cc439158381186": {
          "model_module": "@jupyter-widgets/controls",
          "model_name": "DescriptionStyleModel",
          "model_module_version": "1.5.0",
          "state": {
            "_model_module": "@jupyter-widgets/controls",
            "_model_module_version": "1.5.0",
            "_model_name": "DescriptionStyleModel",
            "_view_count": null,
            "_view_module": "@jupyter-widgets/base",
            "_view_module_version": "1.2.0",
            "_view_name": "StyleView",
            "description_width": ""
          }
        },
        "bcfea681d088452a8f3f7026858f6e4a": {
          "model_module": "@jupyter-widgets/base",
          "model_name": "LayoutModel",
          "model_module_version": "1.2.0",
          "state": {
            "_model_module": "@jupyter-widgets/base",
            "_model_module_version": "1.2.0",
            "_model_name": "LayoutModel",
            "_view_count": null,
            "_view_module": "@jupyter-widgets/base",
            "_view_module_version": "1.2.0",
            "_view_name": "LayoutView",
            "align_content": null,
            "align_items": null,
            "align_self": null,
            "border": null,
            "bottom": null,
            "display": null,
            "flex": null,
            "flex_flow": null,
            "grid_area": null,
            "grid_auto_columns": null,
            "grid_auto_flow": null,
            "grid_auto_rows": null,
            "grid_column": null,
            "grid_gap": null,
            "grid_row": null,
            "grid_template_areas": null,
            "grid_template_columns": null,
            "grid_template_rows": null,
            "height": null,
            "justify_content": null,
            "justify_items": null,
            "left": null,
            "margin": null,
            "max_height": null,
            "max_width": null,
            "min_height": null,
            "min_width": null,
            "object_fit": null,
            "object_position": null,
            "order": null,
            "overflow": null,
            "overflow_x": null,
            "overflow_y": null,
            "padding": null,
            "right": null,
            "top": null,
            "visibility": null,
            "width": null
          }
        },
        "bfdfc5275df64a2e9a9bbe05da94b594": {
          "model_module": "@jupyter-widgets/controls",
          "model_name": "ProgressStyleModel",
          "model_module_version": "1.5.0",
          "state": {
            "_model_module": "@jupyter-widgets/controls",
            "_model_module_version": "1.5.0",
            "_model_name": "ProgressStyleModel",
            "_view_count": null,
            "_view_module": "@jupyter-widgets/base",
            "_view_module_version": "1.2.0",
            "_view_name": "StyleView",
            "bar_color": null,
            "description_width": ""
          }
        },
        "b8efbf15bd5b4be6bbe4f7f7168c4f36": {
          "model_module": "@jupyter-widgets/base",
          "model_name": "LayoutModel",
          "model_module_version": "1.2.0",
          "state": {
            "_model_module": "@jupyter-widgets/base",
            "_model_module_version": "1.2.0",
            "_model_name": "LayoutModel",
            "_view_count": null,
            "_view_module": "@jupyter-widgets/base",
            "_view_module_version": "1.2.0",
            "_view_name": "LayoutView",
            "align_content": null,
            "align_items": null,
            "align_self": null,
            "border": null,
            "bottom": null,
            "display": null,
            "flex": null,
            "flex_flow": null,
            "grid_area": null,
            "grid_auto_columns": null,
            "grid_auto_flow": null,
            "grid_auto_rows": null,
            "grid_column": null,
            "grid_gap": null,
            "grid_row": null,
            "grid_template_areas": null,
            "grid_template_columns": null,
            "grid_template_rows": null,
            "height": null,
            "justify_content": null,
            "justify_items": null,
            "left": null,
            "margin": null,
            "max_height": null,
            "max_width": null,
            "min_height": null,
            "min_width": null,
            "object_fit": null,
            "object_position": null,
            "order": null,
            "overflow": null,
            "overflow_x": null,
            "overflow_y": null,
            "padding": null,
            "right": null,
            "top": null,
            "visibility": null,
            "width": null
          }
        },
        "12b01c5df6424aaab6c4779fefbc22e5": {
          "model_module": "@jupyter-widgets/controls",
          "model_name": "DescriptionStyleModel",
          "model_module_version": "1.5.0",
          "state": {
            "_model_module": "@jupyter-widgets/controls",
            "_model_module_version": "1.5.0",
            "_model_name": "DescriptionStyleModel",
            "_view_count": null,
            "_view_module": "@jupyter-widgets/base",
            "_view_module_version": "1.2.0",
            "_view_name": "StyleView",
            "description_width": ""
          }
        },
        "dcf7fb1f62ed43bf822d340d2dfac8ee": {
          "model_module": "@jupyter-widgets/controls",
          "model_name": "HBoxModel",
          "model_module_version": "1.5.0",
          "state": {
            "_dom_classes": [],
            "_model_module": "@jupyter-widgets/controls",
            "_model_module_version": "1.5.0",
            "_model_name": "HBoxModel",
            "_view_count": null,
            "_view_module": "@jupyter-widgets/controls",
            "_view_module_version": "1.5.0",
            "_view_name": "HBoxView",
            "box_style": "",
            "children": [
              "IPY_MODEL_241bddc646ac4f59a51e8be17dcb91fb",
              "IPY_MODEL_414fd651dbdd42ab842920491c261d62",
              "IPY_MODEL_a85c6bc22fb64270b773699b9dff4621"
            ],
            "layout": "IPY_MODEL_9fb9a85656db47f3b3343ab5e49578d4"
          }
        },
        "241bddc646ac4f59a51e8be17dcb91fb": {
          "model_module": "@jupyter-widgets/controls",
          "model_name": "HTMLModel",
          "model_module_version": "1.5.0",
          "state": {
            "_dom_classes": [],
            "_model_module": "@jupyter-widgets/controls",
            "_model_module_version": "1.5.0",
            "_model_name": "HTMLModel",
            "_view_count": null,
            "_view_module": "@jupyter-widgets/controls",
            "_view_module_version": "1.5.0",
            "_view_name": "HTMLView",
            "description": "",
            "description_tooltip": null,
            "layout": "IPY_MODEL_35035ef40689480fb69915e8c10a5064",
            "placeholder": "​",
            "style": "IPY_MODEL_d44de67033f74db9bc613f35d7ad837d",
            "value": "Tokenizing train (num_proc=8): 100%"
          }
        },
        "414fd651dbdd42ab842920491c261d62": {
          "model_module": "@jupyter-widgets/controls",
          "model_name": "FloatProgressModel",
          "model_module_version": "1.5.0",
          "state": {
            "_dom_classes": [],
            "_model_module": "@jupyter-widgets/controls",
            "_model_module_version": "1.5.0",
            "_model_name": "FloatProgressModel",
            "_view_count": null,
            "_view_module": "@jupyter-widgets/controls",
            "_view_module_version": "1.5.0",
            "_view_name": "ProgressView",
            "bar_style": "success",
            "description": "",
            "description_tooltip": null,
            "layout": "IPY_MODEL_0845b7e18b5f4512983e0dbf3f890958",
            "max": 176828,
            "min": 0,
            "orientation": "horizontal",
            "style": "IPY_MODEL_faa9af58dffc48ab965a19d88751a6ae",
            "value": 176828
          }
        },
        "a85c6bc22fb64270b773699b9dff4621": {
          "model_module": "@jupyter-widgets/controls",
          "model_name": "HTMLModel",
          "model_module_version": "1.5.0",
          "state": {
            "_dom_classes": [],
            "_model_module": "@jupyter-widgets/controls",
            "_model_module_version": "1.5.0",
            "_model_name": "HTMLModel",
            "_view_count": null,
            "_view_module": "@jupyter-widgets/controls",
            "_view_module_version": "1.5.0",
            "_view_name": "HTMLView",
            "description": "",
            "description_tooltip": null,
            "layout": "IPY_MODEL_fa92f759e9e84e3a8c90bcce44a58db2",
            "placeholder": "​",
            "style": "IPY_MODEL_26e88284b82b4499967905391c34174a",
            "value": " 176828/176828 [01:27&lt;00:00, 960.75 examples/s]"
          }
        },
        "9fb9a85656db47f3b3343ab5e49578d4": {
          "model_module": "@jupyter-widgets/base",
          "model_name": "LayoutModel",
          "model_module_version": "1.2.0",
          "state": {
            "_model_module": "@jupyter-widgets/base",
            "_model_module_version": "1.2.0",
            "_model_name": "LayoutModel",
            "_view_count": null,
            "_view_module": "@jupyter-widgets/base",
            "_view_module_version": "1.2.0",
            "_view_name": "LayoutView",
            "align_content": null,
            "align_items": null,
            "align_self": null,
            "border": null,
            "bottom": null,
            "display": null,
            "flex": null,
            "flex_flow": null,
            "grid_area": null,
            "grid_auto_columns": null,
            "grid_auto_flow": null,
            "grid_auto_rows": null,
            "grid_column": null,
            "grid_gap": null,
            "grid_row": null,
            "grid_template_areas": null,
            "grid_template_columns": null,
            "grid_template_rows": null,
            "height": null,
            "justify_content": null,
            "justify_items": null,
            "left": null,
            "margin": null,
            "max_height": null,
            "max_width": null,
            "min_height": null,
            "min_width": null,
            "object_fit": null,
            "object_position": null,
            "order": null,
            "overflow": null,
            "overflow_x": null,
            "overflow_y": null,
            "padding": null,
            "right": null,
            "top": null,
            "visibility": null,
            "width": null
          }
        },
        "35035ef40689480fb69915e8c10a5064": {
          "model_module": "@jupyter-widgets/base",
          "model_name": "LayoutModel",
          "model_module_version": "1.2.0",
          "state": {
            "_model_module": "@jupyter-widgets/base",
            "_model_module_version": "1.2.0",
            "_model_name": "LayoutModel",
            "_view_count": null,
            "_view_module": "@jupyter-widgets/base",
            "_view_module_version": "1.2.0",
            "_view_name": "LayoutView",
            "align_content": null,
            "align_items": null,
            "align_self": null,
            "border": null,
            "bottom": null,
            "display": null,
            "flex": null,
            "flex_flow": null,
            "grid_area": null,
            "grid_auto_columns": null,
            "grid_auto_flow": null,
            "grid_auto_rows": null,
            "grid_column": null,
            "grid_gap": null,
            "grid_row": null,
            "grid_template_areas": null,
            "grid_template_columns": null,
            "grid_template_rows": null,
            "height": null,
            "justify_content": null,
            "justify_items": null,
            "left": null,
            "margin": null,
            "max_height": null,
            "max_width": null,
            "min_height": null,
            "min_width": null,
            "object_fit": null,
            "object_position": null,
            "order": null,
            "overflow": null,
            "overflow_x": null,
            "overflow_y": null,
            "padding": null,
            "right": null,
            "top": null,
            "visibility": null,
            "width": null
          }
        },
        "d44de67033f74db9bc613f35d7ad837d": {
          "model_module": "@jupyter-widgets/controls",
          "model_name": "DescriptionStyleModel",
          "model_module_version": "1.5.0",
          "state": {
            "_model_module": "@jupyter-widgets/controls",
            "_model_module_version": "1.5.0",
            "_model_name": "DescriptionStyleModel",
            "_view_count": null,
            "_view_module": "@jupyter-widgets/base",
            "_view_module_version": "1.2.0",
            "_view_name": "StyleView",
            "description_width": ""
          }
        },
        "0845b7e18b5f4512983e0dbf3f890958": {
          "model_module": "@jupyter-widgets/base",
          "model_name": "LayoutModel",
          "model_module_version": "1.2.0",
          "state": {
            "_model_module": "@jupyter-widgets/base",
            "_model_module_version": "1.2.0",
            "_model_name": "LayoutModel",
            "_view_count": null,
            "_view_module": "@jupyter-widgets/base",
            "_view_module_version": "1.2.0",
            "_view_name": "LayoutView",
            "align_content": null,
            "align_items": null,
            "align_self": null,
            "border": null,
            "bottom": null,
            "display": null,
            "flex": null,
            "flex_flow": null,
            "grid_area": null,
            "grid_auto_columns": null,
            "grid_auto_flow": null,
            "grid_auto_rows": null,
            "grid_column": null,
            "grid_gap": null,
            "grid_row": null,
            "grid_template_areas": null,
            "grid_template_columns": null,
            "grid_template_rows": null,
            "height": null,
            "justify_content": null,
            "justify_items": null,
            "left": null,
            "margin": null,
            "max_height": null,
            "max_width": null,
            "min_height": null,
            "min_width": null,
            "object_fit": null,
            "object_position": null,
            "order": null,
            "overflow": null,
            "overflow_x": null,
            "overflow_y": null,
            "padding": null,
            "right": null,
            "top": null,
            "visibility": null,
            "width": null
          }
        },
        "faa9af58dffc48ab965a19d88751a6ae": {
          "model_module": "@jupyter-widgets/controls",
          "model_name": "ProgressStyleModel",
          "model_module_version": "1.5.0",
          "state": {
            "_model_module": "@jupyter-widgets/controls",
            "_model_module_version": "1.5.0",
            "_model_name": "ProgressStyleModel",
            "_view_count": null,
            "_view_module": "@jupyter-widgets/base",
            "_view_module_version": "1.2.0",
            "_view_name": "StyleView",
            "bar_color": null,
            "description_width": ""
          }
        },
        "fa92f759e9e84e3a8c90bcce44a58db2": {
          "model_module": "@jupyter-widgets/base",
          "model_name": "LayoutModel",
          "model_module_version": "1.2.0",
          "state": {
            "_model_module": "@jupyter-widgets/base",
            "_model_module_version": "1.2.0",
            "_model_name": "LayoutModel",
            "_view_count": null,
            "_view_module": "@jupyter-widgets/base",
            "_view_module_version": "1.2.0",
            "_view_name": "LayoutView",
            "align_content": null,
            "align_items": null,
            "align_self": null,
            "border": null,
            "bottom": null,
            "display": null,
            "flex": null,
            "flex_flow": null,
            "grid_area": null,
            "grid_auto_columns": null,
            "grid_auto_flow": null,
            "grid_auto_rows": null,
            "grid_column": null,
            "grid_gap": null,
            "grid_row": null,
            "grid_template_areas": null,
            "grid_template_columns": null,
            "grid_template_rows": null,
            "height": null,
            "justify_content": null,
            "justify_items": null,
            "left": null,
            "margin": null,
            "max_height": null,
            "max_width": null,
            "min_height": null,
            "min_width": null,
            "object_fit": null,
            "object_position": null,
            "order": null,
            "overflow": null,
            "overflow_x": null,
            "overflow_y": null,
            "padding": null,
            "right": null,
            "top": null,
            "visibility": null,
            "width": null
          }
        },
        "26e88284b82b4499967905391c34174a": {
          "model_module": "@jupyter-widgets/controls",
          "model_name": "DescriptionStyleModel",
          "model_module_version": "1.5.0",
          "state": {
            "_model_module": "@jupyter-widgets/controls",
            "_model_module_version": "1.5.0",
            "_model_name": "DescriptionStyleModel",
            "_view_count": null,
            "_view_module": "@jupyter-widgets/base",
            "_view_module_version": "1.2.0",
            "_view_name": "StyleView",
            "description_width": ""
          }
        },
        "2ed10e3c13e046f5852bcf53f9c9323d": {
          "model_module": "@jupyter-widgets/controls",
          "model_name": "HBoxModel",
          "model_module_version": "1.5.0",
          "state": {
            "_dom_classes": [],
            "_model_module": "@jupyter-widgets/controls",
            "_model_module_version": "1.5.0",
            "_model_name": "HBoxModel",
            "_view_count": null,
            "_view_module": "@jupyter-widgets/controls",
            "_view_module_version": "1.5.0",
            "_view_name": "HBoxView",
            "box_style": "",
            "children": [
              "IPY_MODEL_03ca7a617b7b40648254655b5f785fef",
              "IPY_MODEL_cf0f8e4c92a046db8353bb697397e89a",
              "IPY_MODEL_1f702d7e54314e3a99b6548f4a3a9290"
            ],
            "layout": "IPY_MODEL_aa0ddf77638740fab5cfcef46edbbfee"
          }
        },
        "03ca7a617b7b40648254655b5f785fef": {
          "model_module": "@jupyter-widgets/controls",
          "model_name": "HTMLModel",
          "model_module_version": "1.5.0",
          "state": {
            "_dom_classes": [],
            "_model_module": "@jupyter-widgets/controls",
            "_model_module_version": "1.5.0",
            "_model_name": "HTMLModel",
            "_view_count": null,
            "_view_module": "@jupyter-widgets/controls",
            "_view_module_version": "1.5.0",
            "_view_name": "HTMLView",
            "description": "",
            "description_tooltip": null,
            "layout": "IPY_MODEL_93499a6eda644affadc1af7e8518ffaa",
            "placeholder": "​",
            "style": "IPY_MODEL_9122bbe2a200425dbf0a8c9d041fdb7b",
            "value": "Saving the dataset (5/5 shards): 100%"
          }
        },
        "cf0f8e4c92a046db8353bb697397e89a": {
          "model_module": "@jupyter-widgets/controls",
          "model_name": "FloatProgressModel",
          "model_module_version": "1.5.0",
          "state": {
            "_dom_classes": [],
            "_model_module": "@jupyter-widgets/controls",
            "_model_module_version": "1.5.0",
            "_model_name": "FloatProgressModel",
            "_view_count": null,
            "_view_module": "@jupyter-widgets/controls",
            "_view_module_version": "1.5.0",
            "_view_name": "ProgressView",
            "bar_style": "success",
            "description": "",
            "description_tooltip": null,
            "layout": "IPY_MODEL_23006a2263614e8f86bf5427ae93dcd1",
            "max": 176828,
            "min": 0,
            "orientation": "horizontal",
            "style": "IPY_MODEL_7aeffff46c9b4e18b4c9b5a5e7861bbe",
            "value": 176828
          }
        },
        "1f702d7e54314e3a99b6548f4a3a9290": {
          "model_module": "@jupyter-widgets/controls",
          "model_name": "HTMLModel",
          "model_module_version": "1.5.0",
          "state": {
            "_dom_classes": [],
            "_model_module": "@jupyter-widgets/controls",
            "_model_module_version": "1.5.0",
            "_model_name": "HTMLModel",
            "_view_count": null,
            "_view_module": "@jupyter-widgets/controls",
            "_view_module_version": "1.5.0",
            "_view_name": "HTMLView",
            "description": "",
            "description_tooltip": null,
            "layout": "IPY_MODEL_dd5c545dabd74e1ea23687ac25aa7f1a",
            "placeholder": "​",
            "style": "IPY_MODEL_9965f57a348b4a00aea11a19cc8c5a07",
            "value": " 176828/176828 [00:03&lt;00:00, 60830.35 examples/s]"
          }
        },
        "aa0ddf77638740fab5cfcef46edbbfee": {
          "model_module": "@jupyter-widgets/base",
          "model_name": "LayoutModel",
          "model_module_version": "1.2.0",
          "state": {
            "_model_module": "@jupyter-widgets/base",
            "_model_module_version": "1.2.0",
            "_model_name": "LayoutModel",
            "_view_count": null,
            "_view_module": "@jupyter-widgets/base",
            "_view_module_version": "1.2.0",
            "_view_name": "LayoutView",
            "align_content": null,
            "align_items": null,
            "align_self": null,
            "border": null,
            "bottom": null,
            "display": null,
            "flex": null,
            "flex_flow": null,
            "grid_area": null,
            "grid_auto_columns": null,
            "grid_auto_flow": null,
            "grid_auto_rows": null,
            "grid_column": null,
            "grid_gap": null,
            "grid_row": null,
            "grid_template_areas": null,
            "grid_template_columns": null,
            "grid_template_rows": null,
            "height": null,
            "justify_content": null,
            "justify_items": null,
            "left": null,
            "margin": null,
            "max_height": null,
            "max_width": null,
            "min_height": null,
            "min_width": null,
            "object_fit": null,
            "object_position": null,
            "order": null,
            "overflow": null,
            "overflow_x": null,
            "overflow_y": null,
            "padding": null,
            "right": null,
            "top": null,
            "visibility": null,
            "width": null
          }
        },
        "93499a6eda644affadc1af7e8518ffaa": {
          "model_module": "@jupyter-widgets/base",
          "model_name": "LayoutModel",
          "model_module_version": "1.2.0",
          "state": {
            "_model_module": "@jupyter-widgets/base",
            "_model_module_version": "1.2.0",
            "_model_name": "LayoutModel",
            "_view_count": null,
            "_view_module": "@jupyter-widgets/base",
            "_view_module_version": "1.2.0",
            "_view_name": "LayoutView",
            "align_content": null,
            "align_items": null,
            "align_self": null,
            "border": null,
            "bottom": null,
            "display": null,
            "flex": null,
            "flex_flow": null,
            "grid_area": null,
            "grid_auto_columns": null,
            "grid_auto_flow": null,
            "grid_auto_rows": null,
            "grid_column": null,
            "grid_gap": null,
            "grid_row": null,
            "grid_template_areas": null,
            "grid_template_columns": null,
            "grid_template_rows": null,
            "height": null,
            "justify_content": null,
            "justify_items": null,
            "left": null,
            "margin": null,
            "max_height": null,
            "max_width": null,
            "min_height": null,
            "min_width": null,
            "object_fit": null,
            "object_position": null,
            "order": null,
            "overflow": null,
            "overflow_x": null,
            "overflow_y": null,
            "padding": null,
            "right": null,
            "top": null,
            "visibility": null,
            "width": null
          }
        },
        "9122bbe2a200425dbf0a8c9d041fdb7b": {
          "model_module": "@jupyter-widgets/controls",
          "model_name": "DescriptionStyleModel",
          "model_module_version": "1.5.0",
          "state": {
            "_model_module": "@jupyter-widgets/controls",
            "_model_module_version": "1.5.0",
            "_model_name": "DescriptionStyleModel",
            "_view_count": null,
            "_view_module": "@jupyter-widgets/base",
            "_view_module_version": "1.2.0",
            "_view_name": "StyleView",
            "description_width": ""
          }
        },
        "23006a2263614e8f86bf5427ae93dcd1": {
          "model_module": "@jupyter-widgets/base",
          "model_name": "LayoutModel",
          "model_module_version": "1.2.0",
          "state": {
            "_model_module": "@jupyter-widgets/base",
            "_model_module_version": "1.2.0",
            "_model_name": "LayoutModel",
            "_view_count": null,
            "_view_module": "@jupyter-widgets/base",
            "_view_module_version": "1.2.0",
            "_view_name": "LayoutView",
            "align_content": null,
            "align_items": null,
            "align_self": null,
            "border": null,
            "bottom": null,
            "display": null,
            "flex": null,
            "flex_flow": null,
            "grid_area": null,
            "grid_auto_columns": null,
            "grid_auto_flow": null,
            "grid_auto_rows": null,
            "grid_column": null,
            "grid_gap": null,
            "grid_row": null,
            "grid_template_areas": null,
            "grid_template_columns": null,
            "grid_template_rows": null,
            "height": null,
            "justify_content": null,
            "justify_items": null,
            "left": null,
            "margin": null,
            "max_height": null,
            "max_width": null,
            "min_height": null,
            "min_width": null,
            "object_fit": null,
            "object_position": null,
            "order": null,
            "overflow": null,
            "overflow_x": null,
            "overflow_y": null,
            "padding": null,
            "right": null,
            "top": null,
            "visibility": null,
            "width": null
          }
        },
        "7aeffff46c9b4e18b4c9b5a5e7861bbe": {
          "model_module": "@jupyter-widgets/controls",
          "model_name": "ProgressStyleModel",
          "model_module_version": "1.5.0",
          "state": {
            "_model_module": "@jupyter-widgets/controls",
            "_model_module_version": "1.5.0",
            "_model_name": "ProgressStyleModel",
            "_view_count": null,
            "_view_module": "@jupyter-widgets/base",
            "_view_module_version": "1.2.0",
            "_view_name": "StyleView",
            "bar_color": null,
            "description_width": ""
          }
        },
        "dd5c545dabd74e1ea23687ac25aa7f1a": {
          "model_module": "@jupyter-widgets/base",
          "model_name": "LayoutModel",
          "model_module_version": "1.2.0",
          "state": {
            "_model_module": "@jupyter-widgets/base",
            "_model_module_version": "1.2.0",
            "_model_name": "LayoutModel",
            "_view_count": null,
            "_view_module": "@jupyter-widgets/base",
            "_view_module_version": "1.2.0",
            "_view_name": "LayoutView",
            "align_content": null,
            "align_items": null,
            "align_self": null,
            "border": null,
            "bottom": null,
            "display": null,
            "flex": null,
            "flex_flow": null,
            "grid_area": null,
            "grid_auto_columns": null,
            "grid_auto_flow": null,
            "grid_auto_rows": null,
            "grid_column": null,
            "grid_gap": null,
            "grid_row": null,
            "grid_template_areas": null,
            "grid_template_columns": null,
            "grid_template_rows": null,
            "height": null,
            "justify_content": null,
            "justify_items": null,
            "left": null,
            "margin": null,
            "max_height": null,
            "max_width": null,
            "min_height": null,
            "min_width": null,
            "object_fit": null,
            "object_position": null,
            "order": null,
            "overflow": null,
            "overflow_x": null,
            "overflow_y": null,
            "padding": null,
            "right": null,
            "top": null,
            "visibility": null,
            "width": null
          }
        },
        "9965f57a348b4a00aea11a19cc8c5a07": {
          "model_module": "@jupyter-widgets/controls",
          "model_name": "DescriptionStyleModel",
          "model_module_version": "1.5.0",
          "state": {
            "_model_module": "@jupyter-widgets/controls",
            "_model_module_version": "1.5.0",
            "_model_name": "DescriptionStyleModel",
            "_view_count": null,
            "_view_module": "@jupyter-widgets/base",
            "_view_module_version": "1.2.0",
            "_view_name": "StyleView",
            "description_width": ""
          }
        },
        "189fd3c6b897438f99e5c952fb5192d0": {
          "model_module": "@jupyter-widgets/controls",
          "model_name": "HBoxModel",
          "model_module_version": "1.5.0",
          "state": {
            "_dom_classes": [],
            "_model_module": "@jupyter-widgets/controls",
            "_model_module_version": "1.5.0",
            "_model_name": "HBoxModel",
            "_view_count": null,
            "_view_module": "@jupyter-widgets/controls",
            "_view_module_version": "1.5.0",
            "_view_name": "HBoxView",
            "box_style": "",
            "children": [
              "IPY_MODEL_74a29957ec4745b1902dfa7370419bf8",
              "IPY_MODEL_da1668eb98e34e478863c1ec7150806f",
              "IPY_MODEL_76027a22fe714c7f99b724c5fc65e8b0"
            ],
            "layout": "IPY_MODEL_0154c9d92b0b4a1b90be12860a86b92a"
          }
        },
        "74a29957ec4745b1902dfa7370419bf8": {
          "model_module": "@jupyter-widgets/controls",
          "model_name": "HTMLModel",
          "model_module_version": "1.5.0",
          "state": {
            "_dom_classes": [],
            "_model_module": "@jupyter-widgets/controls",
            "_model_module_version": "1.5.0",
            "_model_name": "HTMLModel",
            "_view_count": null,
            "_view_module": "@jupyter-widgets/controls",
            "_view_module_version": "1.5.0",
            "_view_name": "HTMLView",
            "description": "",
            "description_tooltip": null,
            "layout": "IPY_MODEL_4ecacdef87484a13be766b6cd4441bb7",
            "placeholder": "​",
            "style": "IPY_MODEL_8ea425e5fed94208a972edf8504f5a42",
            "value": "Tokenizing test (num_proc=8): 100%"
          }
        },
        "da1668eb98e34e478863c1ec7150806f": {
          "model_module": "@jupyter-widgets/controls",
          "model_name": "FloatProgressModel",
          "model_module_version": "1.5.0",
          "state": {
            "_dom_classes": [],
            "_model_module": "@jupyter-widgets/controls",
            "_model_module_version": "1.5.0",
            "_model_name": "FloatProgressModel",
            "_view_count": null,
            "_view_module": "@jupyter-widgets/controls",
            "_view_module_version": "1.5.0",
            "_view_name": "ProgressView",
            "bar_style": "success",
            "description": "",
            "description_tooltip": null,
            "layout": "IPY_MODEL_4664fa3fe254400893b26bdfaf2d9b86",
            "max": 73396,
            "min": 0,
            "orientation": "horizontal",
            "style": "IPY_MODEL_9b64100862a848b5b9af7e224a6adf1d",
            "value": 73396
          }
        },
        "76027a22fe714c7f99b724c5fc65e8b0": {
          "model_module": "@jupyter-widgets/controls",
          "model_name": "HTMLModel",
          "model_module_version": "1.5.0",
          "state": {
            "_dom_classes": [],
            "_model_module": "@jupyter-widgets/controls",
            "_model_module_version": "1.5.0",
            "_model_name": "HTMLModel",
            "_view_count": null,
            "_view_module": "@jupyter-widgets/controls",
            "_view_module_version": "1.5.0",
            "_view_name": "HTMLView",
            "description": "",
            "description_tooltip": null,
            "layout": "IPY_MODEL_61e956aa610f4739b4e39d50661539cc",
            "placeholder": "​",
            "style": "IPY_MODEL_8ba698f636084e2f808d005c202d5241",
            "value": " 73396/73396 [00:42&lt;00:00, 916.04 examples/s]"
          }
        },
        "0154c9d92b0b4a1b90be12860a86b92a": {
          "model_module": "@jupyter-widgets/base",
          "model_name": "LayoutModel",
          "model_module_version": "1.2.0",
          "state": {
            "_model_module": "@jupyter-widgets/base",
            "_model_module_version": "1.2.0",
            "_model_name": "LayoutModel",
            "_view_count": null,
            "_view_module": "@jupyter-widgets/base",
            "_view_module_version": "1.2.0",
            "_view_name": "LayoutView",
            "align_content": null,
            "align_items": null,
            "align_self": null,
            "border": null,
            "bottom": null,
            "display": null,
            "flex": null,
            "flex_flow": null,
            "grid_area": null,
            "grid_auto_columns": null,
            "grid_auto_flow": null,
            "grid_auto_rows": null,
            "grid_column": null,
            "grid_gap": null,
            "grid_row": null,
            "grid_template_areas": null,
            "grid_template_columns": null,
            "grid_template_rows": null,
            "height": null,
            "justify_content": null,
            "justify_items": null,
            "left": null,
            "margin": null,
            "max_height": null,
            "max_width": null,
            "min_height": null,
            "min_width": null,
            "object_fit": null,
            "object_position": null,
            "order": null,
            "overflow": null,
            "overflow_x": null,
            "overflow_y": null,
            "padding": null,
            "right": null,
            "top": null,
            "visibility": null,
            "width": null
          }
        },
        "4ecacdef87484a13be766b6cd4441bb7": {
          "model_module": "@jupyter-widgets/base",
          "model_name": "LayoutModel",
          "model_module_version": "1.2.0",
          "state": {
            "_model_module": "@jupyter-widgets/base",
            "_model_module_version": "1.2.0",
            "_model_name": "LayoutModel",
            "_view_count": null,
            "_view_module": "@jupyter-widgets/base",
            "_view_module_version": "1.2.0",
            "_view_name": "LayoutView",
            "align_content": null,
            "align_items": null,
            "align_self": null,
            "border": null,
            "bottom": null,
            "display": null,
            "flex": null,
            "flex_flow": null,
            "grid_area": null,
            "grid_auto_columns": null,
            "grid_auto_flow": null,
            "grid_auto_rows": null,
            "grid_column": null,
            "grid_gap": null,
            "grid_row": null,
            "grid_template_areas": null,
            "grid_template_columns": null,
            "grid_template_rows": null,
            "height": null,
            "justify_content": null,
            "justify_items": null,
            "left": null,
            "margin": null,
            "max_height": null,
            "max_width": null,
            "min_height": null,
            "min_width": null,
            "object_fit": null,
            "object_position": null,
            "order": null,
            "overflow": null,
            "overflow_x": null,
            "overflow_y": null,
            "padding": null,
            "right": null,
            "top": null,
            "visibility": null,
            "width": null
          }
        },
        "8ea425e5fed94208a972edf8504f5a42": {
          "model_module": "@jupyter-widgets/controls",
          "model_name": "DescriptionStyleModel",
          "model_module_version": "1.5.0",
          "state": {
            "_model_module": "@jupyter-widgets/controls",
            "_model_module_version": "1.5.0",
            "_model_name": "DescriptionStyleModel",
            "_view_count": null,
            "_view_module": "@jupyter-widgets/base",
            "_view_module_version": "1.2.0",
            "_view_name": "StyleView",
            "description_width": ""
          }
        },
        "4664fa3fe254400893b26bdfaf2d9b86": {
          "model_module": "@jupyter-widgets/base",
          "model_name": "LayoutModel",
          "model_module_version": "1.2.0",
          "state": {
            "_model_module": "@jupyter-widgets/base",
            "_model_module_version": "1.2.0",
            "_model_name": "LayoutModel",
            "_view_count": null,
            "_view_module": "@jupyter-widgets/base",
            "_view_module_version": "1.2.0",
            "_view_name": "LayoutView",
            "align_content": null,
            "align_items": null,
            "align_self": null,
            "border": null,
            "bottom": null,
            "display": null,
            "flex": null,
            "flex_flow": null,
            "grid_area": null,
            "grid_auto_columns": null,
            "grid_auto_flow": null,
            "grid_auto_rows": null,
            "grid_column": null,
            "grid_gap": null,
            "grid_row": null,
            "grid_template_areas": null,
            "grid_template_columns": null,
            "grid_template_rows": null,
            "height": null,
            "justify_content": null,
            "justify_items": null,
            "left": null,
            "margin": null,
            "max_height": null,
            "max_width": null,
            "min_height": null,
            "min_width": null,
            "object_fit": null,
            "object_position": null,
            "order": null,
            "overflow": null,
            "overflow_x": null,
            "overflow_y": null,
            "padding": null,
            "right": null,
            "top": null,
            "visibility": null,
            "width": null
          }
        },
        "9b64100862a848b5b9af7e224a6adf1d": {
          "model_module": "@jupyter-widgets/controls",
          "model_name": "ProgressStyleModel",
          "model_module_version": "1.5.0",
          "state": {
            "_model_module": "@jupyter-widgets/controls",
            "_model_module_version": "1.5.0",
            "_model_name": "ProgressStyleModel",
            "_view_count": null,
            "_view_module": "@jupyter-widgets/base",
            "_view_module_version": "1.2.0",
            "_view_name": "StyleView",
            "bar_color": null,
            "description_width": ""
          }
        },
        "61e956aa610f4739b4e39d50661539cc": {
          "model_module": "@jupyter-widgets/base",
          "model_name": "LayoutModel",
          "model_module_version": "1.2.0",
          "state": {
            "_model_module": "@jupyter-widgets/base",
            "_model_module_version": "1.2.0",
            "_model_name": "LayoutModel",
            "_view_count": null,
            "_view_module": "@jupyter-widgets/base",
            "_view_module_version": "1.2.0",
            "_view_name": "LayoutView",
            "align_content": null,
            "align_items": null,
            "align_self": null,
            "border": null,
            "bottom": null,
            "display": null,
            "flex": null,
            "flex_flow": null,
            "grid_area": null,
            "grid_auto_columns": null,
            "grid_auto_flow": null,
            "grid_auto_rows": null,
            "grid_column": null,
            "grid_gap": null,
            "grid_row": null,
            "grid_template_areas": null,
            "grid_template_columns": null,
            "grid_template_rows": null,
            "height": null,
            "justify_content": null,
            "justify_items": null,
            "left": null,
            "margin": null,
            "max_height": null,
            "max_width": null,
            "min_height": null,
            "min_width": null,
            "object_fit": null,
            "object_position": null,
            "order": null,
            "overflow": null,
            "overflow_x": null,
            "overflow_y": null,
            "padding": null,
            "right": null,
            "top": null,
            "visibility": null,
            "width": null
          }
        },
        "8ba698f636084e2f808d005c202d5241": {
          "model_module": "@jupyter-widgets/controls",
          "model_name": "DescriptionStyleModel",
          "model_module_version": "1.5.0",
          "state": {
            "_model_module": "@jupyter-widgets/controls",
            "_model_module_version": "1.5.0",
            "_model_name": "DescriptionStyleModel",
            "_view_count": null,
            "_view_module": "@jupyter-widgets/base",
            "_view_module_version": "1.2.0",
            "_view_name": "StyleView",
            "description_width": ""
          }
        },
        "e48835e00c8b42b28f2e78ca4c08c040": {
          "model_module": "@jupyter-widgets/controls",
          "model_name": "HBoxModel",
          "model_module_version": "1.5.0",
          "state": {
            "_dom_classes": [],
            "_model_module": "@jupyter-widgets/controls",
            "_model_module_version": "1.5.0",
            "_model_name": "HBoxModel",
            "_view_count": null,
            "_view_module": "@jupyter-widgets/controls",
            "_view_module_version": "1.5.0",
            "_view_name": "HBoxView",
            "box_style": "",
            "children": [
              "IPY_MODEL_49632b10e7704aecb99061ac8b0ea21c",
              "IPY_MODEL_dc5069663e974a3aade6b5eb9f9914cc",
              "IPY_MODEL_2c2d258e0efb430bbb591696004304f2"
            ],
            "layout": "IPY_MODEL_2802eeccec814b38b38ce9c3caa619ef"
          }
        },
        "49632b10e7704aecb99061ac8b0ea21c": {
          "model_module": "@jupyter-widgets/controls",
          "model_name": "HTMLModel",
          "model_module_version": "1.5.0",
          "state": {
            "_dom_classes": [],
            "_model_module": "@jupyter-widgets/controls",
            "_model_module_version": "1.5.0",
            "_model_name": "HTMLModel",
            "_view_count": null,
            "_view_module": "@jupyter-widgets/controls",
            "_view_module_version": "1.5.0",
            "_view_name": "HTMLView",
            "description": "",
            "description_tooltip": null,
            "layout": "IPY_MODEL_7d642ade3d254ff0b9e80e1e982553b0",
            "placeholder": "​",
            "style": "IPY_MODEL_264718d0481f47308cdb61552ba59a3f",
            "value": "Saving the dataset (3/3 shards): 100%"
          }
        },
        "dc5069663e974a3aade6b5eb9f9914cc": {
          "model_module": "@jupyter-widgets/controls",
          "model_name": "FloatProgressModel",
          "model_module_version": "1.5.0",
          "state": {
            "_dom_classes": [],
            "_model_module": "@jupyter-widgets/controls",
            "_model_module_version": "1.5.0",
            "_model_name": "FloatProgressModel",
            "_view_count": null,
            "_view_module": "@jupyter-widgets/controls",
            "_view_module_version": "1.5.0",
            "_view_name": "ProgressView",
            "bar_style": "success",
            "description": "",
            "description_tooltip": null,
            "layout": "IPY_MODEL_acb27fe6f7ba4151b6b08342509ea403",
            "max": 73396,
            "min": 0,
            "orientation": "horizontal",
            "style": "IPY_MODEL_6eaae34f19234058aad03dad09b396fe",
            "value": 73396
          }
        },
        "2c2d258e0efb430bbb591696004304f2": {
          "model_module": "@jupyter-widgets/controls",
          "model_name": "HTMLModel",
          "model_module_version": "1.5.0",
          "state": {
            "_dom_classes": [],
            "_model_module": "@jupyter-widgets/controls",
            "_model_module_version": "1.5.0",
            "_model_name": "HTMLModel",
            "_view_count": null,
            "_view_module": "@jupyter-widgets/controls",
            "_view_module_version": "1.5.0",
            "_view_name": "HTMLView",
            "description": "",
            "description_tooltip": null,
            "layout": "IPY_MODEL_7a7a7cad626d40dcb19af510e906f01e",
            "placeholder": "​",
            "style": "IPY_MODEL_4f9fff8ca24a45e2a3700b3fb85390f4",
            "value": " 73396/73396 [00:01&lt;00:00, 44132.12 examples/s]"
          }
        },
        "2802eeccec814b38b38ce9c3caa619ef": {
          "model_module": "@jupyter-widgets/base",
          "model_name": "LayoutModel",
          "model_module_version": "1.2.0",
          "state": {
            "_model_module": "@jupyter-widgets/base",
            "_model_module_version": "1.2.0",
            "_model_name": "LayoutModel",
            "_view_count": null,
            "_view_module": "@jupyter-widgets/base",
            "_view_module_version": "1.2.0",
            "_view_name": "LayoutView",
            "align_content": null,
            "align_items": null,
            "align_self": null,
            "border": null,
            "bottom": null,
            "display": null,
            "flex": null,
            "flex_flow": null,
            "grid_area": null,
            "grid_auto_columns": null,
            "grid_auto_flow": null,
            "grid_auto_rows": null,
            "grid_column": null,
            "grid_gap": null,
            "grid_row": null,
            "grid_template_areas": null,
            "grid_template_columns": null,
            "grid_template_rows": null,
            "height": null,
            "justify_content": null,
            "justify_items": null,
            "left": null,
            "margin": null,
            "max_height": null,
            "max_width": null,
            "min_height": null,
            "min_width": null,
            "object_fit": null,
            "object_position": null,
            "order": null,
            "overflow": null,
            "overflow_x": null,
            "overflow_y": null,
            "padding": null,
            "right": null,
            "top": null,
            "visibility": null,
            "width": null
          }
        },
        "7d642ade3d254ff0b9e80e1e982553b0": {
          "model_module": "@jupyter-widgets/base",
          "model_name": "LayoutModel",
          "model_module_version": "1.2.0",
          "state": {
            "_model_module": "@jupyter-widgets/base",
            "_model_module_version": "1.2.0",
            "_model_name": "LayoutModel",
            "_view_count": null,
            "_view_module": "@jupyter-widgets/base",
            "_view_module_version": "1.2.0",
            "_view_name": "LayoutView",
            "align_content": null,
            "align_items": null,
            "align_self": null,
            "border": null,
            "bottom": null,
            "display": null,
            "flex": null,
            "flex_flow": null,
            "grid_area": null,
            "grid_auto_columns": null,
            "grid_auto_flow": null,
            "grid_auto_rows": null,
            "grid_column": null,
            "grid_gap": null,
            "grid_row": null,
            "grid_template_areas": null,
            "grid_template_columns": null,
            "grid_template_rows": null,
            "height": null,
            "justify_content": null,
            "justify_items": null,
            "left": null,
            "margin": null,
            "max_height": null,
            "max_width": null,
            "min_height": null,
            "min_width": null,
            "object_fit": null,
            "object_position": null,
            "order": null,
            "overflow": null,
            "overflow_x": null,
            "overflow_y": null,
            "padding": null,
            "right": null,
            "top": null,
            "visibility": null,
            "width": null
          }
        },
        "264718d0481f47308cdb61552ba59a3f": {
          "model_module": "@jupyter-widgets/controls",
          "model_name": "DescriptionStyleModel",
          "model_module_version": "1.5.0",
          "state": {
            "_model_module": "@jupyter-widgets/controls",
            "_model_module_version": "1.5.0",
            "_model_name": "DescriptionStyleModel",
            "_view_count": null,
            "_view_module": "@jupyter-widgets/base",
            "_view_module_version": "1.2.0",
            "_view_name": "StyleView",
            "description_width": ""
          }
        },
        "acb27fe6f7ba4151b6b08342509ea403": {
          "model_module": "@jupyter-widgets/base",
          "model_name": "LayoutModel",
          "model_module_version": "1.2.0",
          "state": {
            "_model_module": "@jupyter-widgets/base",
            "_model_module_version": "1.2.0",
            "_model_name": "LayoutModel",
            "_view_count": null,
            "_view_module": "@jupyter-widgets/base",
            "_view_module_version": "1.2.0",
            "_view_name": "LayoutView",
            "align_content": null,
            "align_items": null,
            "align_self": null,
            "border": null,
            "bottom": null,
            "display": null,
            "flex": null,
            "flex_flow": null,
            "grid_area": null,
            "grid_auto_columns": null,
            "grid_auto_flow": null,
            "grid_auto_rows": null,
            "grid_column": null,
            "grid_gap": null,
            "grid_row": null,
            "grid_template_areas": null,
            "grid_template_columns": null,
            "grid_template_rows": null,
            "height": null,
            "justify_content": null,
            "justify_items": null,
            "left": null,
            "margin": null,
            "max_height": null,
            "max_width": null,
            "min_height": null,
            "min_width": null,
            "object_fit": null,
            "object_position": null,
            "order": null,
            "overflow": null,
            "overflow_x": null,
            "overflow_y": null,
            "padding": null,
            "right": null,
            "top": null,
            "visibility": null,
            "width": null
          }
        },
        "6eaae34f19234058aad03dad09b396fe": {
          "model_module": "@jupyter-widgets/controls",
          "model_name": "ProgressStyleModel",
          "model_module_version": "1.5.0",
          "state": {
            "_model_module": "@jupyter-widgets/controls",
            "_model_module_version": "1.5.0",
            "_model_name": "ProgressStyleModel",
            "_view_count": null,
            "_view_module": "@jupyter-widgets/base",
            "_view_module_version": "1.2.0",
            "_view_name": "StyleView",
            "bar_color": null,
            "description_width": ""
          }
        },
        "7a7a7cad626d40dcb19af510e906f01e": {
          "model_module": "@jupyter-widgets/base",
          "model_name": "LayoutModel",
          "model_module_version": "1.2.0",
          "state": {
            "_model_module": "@jupyter-widgets/base",
            "_model_module_version": "1.2.0",
            "_model_name": "LayoutModel",
            "_view_count": null,
            "_view_module": "@jupyter-widgets/base",
            "_view_module_version": "1.2.0",
            "_view_name": "LayoutView",
            "align_content": null,
            "align_items": null,
            "align_self": null,
            "border": null,
            "bottom": null,
            "display": null,
            "flex": null,
            "flex_flow": null,
            "grid_area": null,
            "grid_auto_columns": null,
            "grid_auto_flow": null,
            "grid_auto_rows": null,
            "grid_column": null,
            "grid_gap": null,
            "grid_row": null,
            "grid_template_areas": null,
            "grid_template_columns": null,
            "grid_template_rows": null,
            "height": null,
            "justify_content": null,
            "justify_items": null,
            "left": null,
            "margin": null,
            "max_height": null,
            "max_width": null,
            "min_height": null,
            "min_width": null,
            "object_fit": null,
            "object_position": null,
            "order": null,
            "overflow": null,
            "overflow_x": null,
            "overflow_y": null,
            "padding": null,
            "right": null,
            "top": null,
            "visibility": null,
            "width": null
          }
        },
        "4f9fff8ca24a45e2a3700b3fb85390f4": {
          "model_module": "@jupyter-widgets/controls",
          "model_name": "DescriptionStyleModel",
          "model_module_version": "1.5.0",
          "state": {
            "_model_module": "@jupyter-widgets/controls",
            "_model_module_version": "1.5.0",
            "_model_name": "DescriptionStyleModel",
            "_view_count": null,
            "_view_module": "@jupyter-widgets/base",
            "_view_module_version": "1.2.0",
            "_view_name": "StyleView",
            "description_width": ""
          }
        }
      }
    }
  },
  "cells": [
    {
      "cell_type": "code",
      "source": [
        "!pip install -q datasets==2.18.0 tqdm"
      ],
      "metadata": {
        "id": "vSm44VeklV-P"
      },
      "execution_count": 1,
      "outputs": []
    },
    {
      "cell_type": "code",
      "source": [
        "!pip install torch torchvision --extra-index-url https://download.pytorch.org/whl/cu121  # or cu118 / cpu\n",
        "!pip install datasets>=2.18 transformers>=4.40"
      ],
      "metadata": {
        "colab": {
          "base_uri": "https://localhost:8080/"
        },
        "id": "DQiOaHZb3HbA",
        "outputId": "2daaa6d7-6264-4eae-e189-ad68b6e0775f"
      },
      "execution_count": 2,
      "outputs": [
        {
          "output_type": "stream",
          "name": "stdout",
          "text": [
            "Looking in indexes: https://pypi.org/simple, https://download.pytorch.org/whl/cu121\n",
            "Requirement already satisfied: torch in /usr/local/lib/python3.11/dist-packages (2.6.0+cu124)\n",
            "Requirement already satisfied: torchvision in /usr/local/lib/python3.11/dist-packages (0.21.0+cu124)\n",
            "Requirement already satisfied: filelock in /usr/local/lib/python3.11/dist-packages (from torch) (3.18.0)\n",
            "Requirement already satisfied: typing-extensions>=4.10.0 in /usr/local/lib/python3.11/dist-packages (from torch) (4.13.2)\n",
            "Requirement already satisfied: networkx in /usr/local/lib/python3.11/dist-packages (from torch) (3.4.2)\n",
            "Requirement already satisfied: jinja2 in /usr/local/lib/python3.11/dist-packages (from torch) (3.1.6)\n",
            "Requirement already satisfied: fsspec in /usr/local/lib/python3.11/dist-packages (from torch) (2024.2.0)\n",
            "Requirement already satisfied: nvidia-cuda-nvrtc-cu12==12.4.127 in /usr/local/lib/python3.11/dist-packages (from torch) (12.4.127)\n",
            "Requirement already satisfied: nvidia-cuda-runtime-cu12==12.4.127 in /usr/local/lib/python3.11/dist-packages (from torch) (12.4.127)\n",
            "Requirement already satisfied: nvidia-cuda-cupti-cu12==12.4.127 in /usr/local/lib/python3.11/dist-packages (from torch) (12.4.127)\n",
            "Requirement already satisfied: nvidia-cudnn-cu12==9.1.0.70 in /usr/local/lib/python3.11/dist-packages (from torch) (9.1.0.70)\n",
            "Requirement already satisfied: nvidia-cublas-cu12==12.4.5.8 in /usr/local/lib/python3.11/dist-packages (from torch) (12.4.5.8)\n",
            "Requirement already satisfied: nvidia-cufft-cu12==11.2.1.3 in /usr/local/lib/python3.11/dist-packages (from torch) (11.2.1.3)\n",
            "Requirement already satisfied: nvidia-curand-cu12==10.3.5.147 in /usr/local/lib/python3.11/dist-packages (from torch) (10.3.5.147)\n",
            "Requirement already satisfied: nvidia-cusolver-cu12==11.6.1.9 in /usr/local/lib/python3.11/dist-packages (from torch) (11.6.1.9)\n",
            "Requirement already satisfied: nvidia-cusparse-cu12==12.3.1.170 in /usr/local/lib/python3.11/dist-packages (from torch) (12.3.1.170)\n",
            "Requirement already satisfied: nvidia-cusparselt-cu12==0.6.2 in /usr/local/lib/python3.11/dist-packages (from torch) (0.6.2)\n",
            "Requirement already satisfied: nvidia-nccl-cu12==2.21.5 in /usr/local/lib/python3.11/dist-packages (from torch) (2.21.5)\n",
            "Requirement already satisfied: nvidia-nvtx-cu12==12.4.127 in /usr/local/lib/python3.11/dist-packages (from torch) (12.4.127)\n",
            "Requirement already satisfied: nvidia-nvjitlink-cu12==12.4.127 in /usr/local/lib/python3.11/dist-packages (from torch) (12.4.127)\n",
            "Requirement already satisfied: triton==3.2.0 in /usr/local/lib/python3.11/dist-packages (from torch) (3.2.0)\n",
            "Requirement already satisfied: sympy==1.13.1 in /usr/local/lib/python3.11/dist-packages (from torch) (1.13.1)\n",
            "Requirement already satisfied: mpmath<1.4,>=1.1.0 in /usr/local/lib/python3.11/dist-packages (from sympy==1.13.1->torch) (1.3.0)\n",
            "Requirement already satisfied: numpy in /usr/local/lib/python3.11/dist-packages (from torchvision) (2.0.2)\n",
            "Requirement already satisfied: pillow!=8.3.*,>=5.3.0 in /usr/local/lib/python3.11/dist-packages (from torchvision) (11.2.1)\n",
            "Requirement already satisfied: MarkupSafe>=2.0 in /usr/local/lib/python3.11/dist-packages (from jinja2->torch) (3.0.2)\n"
          ]
        }
      ]
    },
    {
      "cell_type": "code",
      "source": [
        "from datasets import load_dataset, Dataset\n",
        "from tqdm.auto import tqdm"
      ],
      "metadata": {
        "id": "soD5teu0lYeH"
      },
      "execution_count": 3,
      "outputs": []
    },
    {
      "cell_type": "code",
      "source": [
        "from datasets import load_dataset, Dataset, DatasetDict\n",
        "from tqdm.auto import tqdm\n",
        "import random, os, shutil\n",
        "\n",
        "SEED          = 42          # change for a different shuffle\n",
        "TEST_FRAC     = 0.3         # 10 % of threads → test\n",
        "DATASET_NAME  = \"rickRossie/bluemoon_roleplay_chat_data_300k_messages\"\n",
        "\n",
        "random.seed(SEED)"
      ],
      "metadata": {
        "id": "dDqGSXKE2Nq-"
      },
      "execution_count": 4,
      "outputs": []
    },
    {
      "cell_type": "code",
      "source": [
        "from datetime import datetime\n",
        "from random import randint"
      ],
      "metadata": {
        "id": "C4Em5mJ1ibXS"
      },
      "execution_count": 5,
      "outputs": []
    },
    {
      "cell_type": "markdown",
      "source": [
        "# ------------------------------------------------------------------\n",
        "# 1 · Stream & bucket messages per thread"
      ],
      "metadata": {
        "id": "nJDmovdV2UcD"
      }
    },
    {
      "cell_type": "code",
      "source": [
        "raw = load_dataset(DATASET_NAME, split=\"train\", streaming=True)\n",
        "\n",
        "threads = {}\n",
        "for row in tqdm(raw, desc=\"Grouping\"):\n",
        "    txt = row[\"message\"]\n",
        "    if not txt:\n",
        "        continue\n",
        "    threads.setdefault(row[\"thread_title\"], []).append(\n",
        "        (row[\"message_timestamp\"], txt)\n",
        "    )\n"
      ],
      "metadata": {
        "colab": {
          "base_uri": "https://localhost:8080/",
          "height": 173,
          "referenced_widgets": [
            "dec0d2a8b7ad400dbc6c96dce95904fb",
            "3cc486ac73a743fd8ce51be4949638e6",
            "c5859ba5f031436daa014ad7b8167666",
            "3293cde8202d45a1ab727d2271a234d9",
            "7e15a10453134bcdba859d6f0c2b5c18",
            "0558f9fd938e41ee90536a6e63fc801f",
            "fba317b8fe1c4dc0b10ad225a9ea2b1d",
            "c396b6be655d4eaeb1c92175aaee6e63",
            "d203d69b38d74536a418243f3566842a",
            "7059ad13f32f456f8f3274d3cb2f135d",
            "06c6aa3ac9fa4104984369ea6c11210a"
          ]
        },
        "id": "rP-V3Rno2TMt",
        "outputId": "b24ef92f-d331-446f-8606-ae181fca86fc"
      },
      "execution_count": 6,
      "outputs": [
        {
          "output_type": "stream",
          "name": "stderr",
          "text": [
            "/usr/local/lib/python3.11/dist-packages/huggingface_hub/utils/_auth.py:94: UserWarning: \n",
            "The secret `HF_TOKEN` does not exist in your Colab secrets.\n",
            "To authenticate with the Hugging Face Hub, create a token in your settings tab (https://huggingface.co/settings/tokens), set it as secret in your Google Colab and restart your session.\n",
            "You will be able to reuse this secret in all of your notebooks.\n",
            "Please note that authentication is recommended but still optional to access public models or datasets.\n",
            "  warnings.warn(\n"
          ]
        },
        {
          "output_type": "display_data",
          "data": {
            "text/plain": [
              "Grouping: 0it [00:00, ?it/s]"
            ],
            "application/vnd.jupyter.widget-view+json": {
              "version_major": 2,
              "version_minor": 0,
              "model_id": "dec0d2a8b7ad400dbc6c96dce95904fb"
            }
          },
          "metadata": {}
        }
      ]
    },
    {
      "cell_type": "code",
      "source": [
        "# 1. Basic size stats\n",
        "print(\"Total threads:\", len(threads))\n",
        "lengths = [len(msgs) for msgs in threads.values()]\n",
        "print(f\"Min thread length: {min(lengths)}\")\n",
        "print(f\"Max thread length: {max(lengths)}\")\n",
        "print(f\"Avg thread length: {sum(lengths)/len(lengths):.2f}\")\n",
        "\n",
        "# 2. Sample a thread and inspect\n",
        "sample_title = random.choice(list(threads.keys()))\n",
        "sample_msgs = sorted(threads[sample_title], key=lambda x: x[0])\n",
        "\n",
        "print(f\"\\n▶ Thread title: {sample_title}\")\n",
        "print(f\"Number of messages: {len(sample_msgs)}\\n\")\n",
        "for ts, msg in sample_msgs[:5]:\n",
        "    print(msg[:100].replace(\"\\n\", \" \"), \"…\")"
      ],
      "metadata": {
        "colab": {
          "base_uri": "https://localhost:8080/"
        },
        "id": "iidxb76-f6HB",
        "outputId": "7b2e0997-8eb3-4146-b7fe-c322099a4952"
      },
      "execution_count": 7,
      "outputs": [
        {
          "output_type": "stream",
          "name": "stdout",
          "text": [
            "Total threads: 3637\n",
            "Min thread length: 1\n",
            "Max thread length: 7609\n",
            "Avg thread length: 71.51\n",
            "\n",
            "▶ Thread title: The Force Awakens: Kylo x Rey (newblood & malfrost)\n",
            "Number of messages: 9\n",
            "\n",
            "Rey licked her lips, which were becoming dry from nervousness. The dark haired woman's eyes narrowed …\n",
            "Ren could feel the girl's willpower and resolve weakening as he drew her closer. He knew, that with  …\n",
            "The last several hours had changed her life completely.Upon momentary contemplation, she could not p …\n",
            "She was stronger than he originally guessed. He had felt the budding power of the force in her, but  …\n",
            "Rey's breathing was labored, and as he approached her she let go of a breath that she hadn't been aw …\n"
          ]
        }
      ]
    },
    {
      "cell_type": "code",
      "source": [
        "threads = {k: v for k, v in threads.items() if len(v) >= 4}\n",
        "\n",
        "print(\"Threads after filtering:\", len(threads))"
      ],
      "metadata": {
        "colab": {
          "base_uri": "https://localhost:8080/"
        },
        "id": "Pt87FWOHg7IH",
        "outputId": "3418d085-4f5a-4e96-cc39-f923638e4e86"
      },
      "execution_count": 8,
      "outputs": [
        {
          "output_type": "stream",
          "name": "stdout",
          "text": [
            "Threads after filtering: 2845\n"
          ]
        }
      ]
    },
    {
      "cell_type": "code",
      "source": [
        "lengths = [len(msgs) for msgs in threads.values()]\n",
        "print(f\"Min thread length: {min(lengths)}\")\n",
        "print(f\"Max thread length: {max(lengths)}\")\n",
        "print(f\"Avg thread length: {sum(lengths)/len(lengths):.2f}\")\n"
      ],
      "metadata": {
        "colab": {
          "base_uri": "https://localhost:8080/"
        },
        "id": "jT52Uf_zhBR8",
        "outputId": "fcc11b59-6e20-42de-ceb5-650aa408e6ea"
      },
      "execution_count": 9,
      "outputs": [
        {
          "output_type": "stream",
          "name": "stdout",
          "text": [
            "Min thread length: 4\n",
            "Max thread length: 7609\n",
            "Avg thread length: 90.95\n"
          ]
        }
      ]
    },
    {
      "cell_type": "markdown",
      "source": [
        "# ------------------------------------------------------------------\n",
        "# 2 · Train / test split at the thread level"
      ],
      "metadata": {
        "id": "Ik1dhnEE2XI1"
      }
    },
    {
      "cell_type": "code",
      "source": [
        "titles = list(threads.keys())\n",
        "random.shuffle(titles)\n",
        "\n",
        "cut = int(len(titles) * (1 - TEST_FRAC))\n",
        "train_titles, test_titles = set(titles[:cut]), set(titles[cut:])\n",
        "\n",
        "def make_pairs(title_set):\n",
        "    for tt in title_set:\n",
        "        turns = sorted(threads[tt], key=lambda x: x[0])\n",
        "        msgs  = [m for _, m in turns]\n",
        "        for i in range(len(msgs) - 3):\n",
        "            yield {\n",
        "                \"input_text\":  \"\\n\\n\".join(msgs[i:i+3]),\n",
        "                \"target_text\": msgs[i+3],\n",
        "            }\n",
        "\n",
        "train_pairs = Dataset.from_generator(lambda: make_pairs(train_titles))\n",
        "test_pairs  = Dataset.from_generator(lambda: make_pairs(test_titles))"
      ],
      "metadata": {
        "id": "F5yP0kSi2bQE"
      },
      "execution_count": 10,
      "outputs": []
    },
    {
      "cell_type": "code",
      "source": [
        "assert train_titles.isdisjoint(test_titles), \"Thread titles leak between train and test\"\n",
        "print(\"✅ Train/test split is disjoint.\")\n"
      ],
      "metadata": {
        "colab": {
          "base_uri": "https://localhost:8080/"
        },
        "id": "i3OHwqwRhxiC",
        "outputId": "d926534d-9698-4ac3-e3bc-42689c5a407c"
      },
      "execution_count": 11,
      "outputs": [
        {
          "output_type": "stream",
          "name": "stdout",
          "text": [
            "✅ Train/test split is disjoint.\n"
          ]
        }
      ]
    },
    {
      "cell_type": "code",
      "source": [
        "# Pick a thread from train\n",
        "some_train_title = random.choice(list(train_titles))\n",
        "thread = threads[some_train_title]\n",
        "\n",
        "# Show timestamps before sorting\n",
        "print(f\"\\n▶ Raw order of thread: {some_train_title}\")\n",
        "for ts, msg in thread[:5]:\n",
        "    print(ts, \"→\", msg[:60].replace(\"\\n\", \" \"))\n",
        "\n",
        "# Date format used in your thread: \"Aug 10, 2016 at 5:28 AM\"\n",
        "fmt = \"%b %d, %Y at %I:%M %p\"\n",
        "\n",
        "# Sort using parsed datetime\n",
        "sorted_turns = sorted(thread, key=lambda x: datetime.strptime(x[0], fmt))\n",
        "\n",
        "print(f\"\\n▶ After sorting:\")\n",
        "for ts, msg in sorted_turns[:5]:\n",
        "    dt = datetime.strptime(ts, fmt)\n",
        "    print(dt, \"→\", msg[:60].replace('\\n',' '))\n"
      ],
      "metadata": {
        "colab": {
          "base_uri": "https://localhost:8080/"
        },
        "id": "crvmXkJIhzP2",
        "outputId": "70c35b7e-e513-40de-c32d-aafe96dcaf84"
      },
      "execution_count": 12,
      "outputs": [
        {
          "output_type": "stream",
          "name": "stdout",
          "text": [
            "\n",
            "▶ Raw order of thread: No Such Thing As Freak (ThomasRHellsing X Shards~Of~Roses\n",
            "Feb 4, 2013 at 6:19 PM → Sora walked through the street of the city, it always seemed\n",
            "Feb 4, 2013 at 7:29 PM → Thomas smirked as he watched. A voice calling out \"Not bad g\n",
            "Feb 4, 2013 at 7:53 PM → Sora perked up when she heard a new voice, hearing what he s\n",
            "Feb 4, 2013 at 8:19 PM → He smirked, \"Meh, most capes are trained to do things non le\n",
            "Feb 4, 2013 at 8:44 PM → Sora looked towards him as she listened to what he had to sa\n",
            "\n",
            "▶ After sorting:\n",
            "2013-02-04 18:19:00 → Sora walked through the street of the city, it always seemed\n",
            "2013-02-04 19:29:00 → Thomas smirked as he watched. A voice calling out \"Not bad g\n",
            "2013-02-04 19:53:00 → Sora perked up when she heard a new voice, hearing what he s\n",
            "2013-02-04 20:19:00 → He smirked, \"Meh, most capes are trained to do things non le\n",
            "2013-02-04 20:44:00 → Sora looked towards him as she listened to what he had to sa\n"
          ]
        }
      ]
    },
    {
      "cell_type": "code",
      "source": [
        "# Sample a thread title\n",
        "title = random.choice(list(train_titles))\n",
        "turns = threads[title]\n",
        "\n",
        "# Sort and extract messages only\n",
        "msgs = [m for _, m in sorted(turns, key=lambda x: x[0])]\n",
        "\n",
        "# Display one example\n",
        "if len(msgs) >= 4:\n",
        "    i = random.randint(0, len(msgs) - 4)\n",
        "    input_text  = \"\\n\\n\".join(msgs[i:i+3])\n",
        "    target_text = msgs[i+3]\n",
        "\n",
        "    print(\"▶ Thread title:\", title)\n",
        "    print(\"\\nInput (previous 3 messages):\\n\")\n",
        "    print(input_text)\n",
        "    print(\"\\nTarget (next message):\\n\")\n",
        "    print(target_text)\n",
        "else:\n",
        "    print(\"Thread too short:\", title)\n"
      ],
      "metadata": {
        "colab": {
          "base_uri": "https://localhost:8080/"
        },
        "id": "bp4bBIYYjalZ",
        "outputId": "510c9eb0-a768-49ff-dcac-f4a9f9bf5b2c"
      },
      "execution_count": 13,
      "outputs": [
        {
          "output_type": "stream",
          "name": "stdout",
          "text": [
            "▶ Thread title: A New Type Of Vulcan (Me & apollo247)\n",
            "\n",
            "Input (previous 3 messages):\n",
            "\n",
            "Khan looked back at her and grinned, he was still confused with everything that was going on around him and yet he wanted to move things along. He nodded to her when she told him about his crew and was glad that they were still safe, he would soon find a way to bring them all to the land of the living and wake them up without anyone noticing what he truly was up to. He watched her for a moment as they entered the guest quarters, he looked around as he wondered what he should do first, though plans were already forming in his mind about how he should proceed.He should have known that she was half breed, that pathetic Vulcan mind trick always finds its way to foul his plans, however it would seem that she only got half of what he was planning and even then it wasn t enough to actually inform her on what he was doing, just a name and a feeling that he wasn t being truthful and he could work with that very well indeed. It makes little difference that you know my true name. He replied to her. Did you forget that your Vulcan abilities work both ways. You may have entered my mind but I have also entered your mind. Thanks for the information you handed me Captain. He receiving something in return of her intrusion into his mind and he was glad for that. He approached her with all the confidence in the world as he leaned in towards her, he looked down her body for a moment. You may think that you have gained the upper hand here but you really don t know the full story. He explained to her as he fell silent, his attitude and personality changed when he realized that she knew his true name.\n",
            "\n",
            "She narrowed her eyes and grasped his hand tightly, her strength tightened around his wrist as she threw him back from the bed with a harsh force. \"Oh you want to play mind games do you? Well I am not an easy person to warp or break, you have a lot to learn as well Khan. You do owe me and if you touch my crew I will go berserk on you.\" she said and stood up. She was enraged now and she tensed her hands, her body ready for his attack. She remembered when Spock had done a mind meld with her and things came flooding back, when Spock had faced Khan before and the ass kicking that the super human had gotten from the other Vulcan. She narrowed her eyes again as another feeling took over and she froze suddenly realizing why she had gained more strength. Kerza smacked him harshly across the face before she felt her mind clear fully now. \"Do you think it wise to mess with a Vulcan when they come close to a certain season? The males have their own version of it, its called Pon Farr.\" she warned him lowly. There was a deadly look in her eyes and he could see the urge to kill flood past her eyes. She suddenly jumped on Khan and pushed him harshly into the bed, sweat poured down her cheeks and her body under her clothes. She brought her hands to his throat and smirked as a look of both need and rage shot through her face, however she pulled back panting softly. She could hardly believe she had attacked him, her emotions being too much for her, it had brought about her heat. Something that really didn't have a name for it however. She took a deep breath and ran her hands over her hair and slowly backed away towards the door. However she froze a little bit worried about what he was going to do to her. She was very aware of the smell of want coming off of Khan. She knew that he wanted her, wanted her to have sex with her...mate with her. She shook her head and glared. \"Don't even think about it, my body is not for you to mate with.\" she snapped.\n",
            "\n",
            "He wanted her, though for Khan he wanted control of her and her crew. Khan saw this and thought that it was the easiest way to get onto the bridge without causing many problems that would lead to his crew being destroyed and besides he had slept for a very long time it would seem. Khan grinned at her when she yelled at him, for a Vulcan half breed she sure allowed her emotions to flood in all the time but never less she didn t know that she was falling deeper into the trap that he had set out in front of her. It didn t take long for this whole situation to go south and now he had an angry Vulcan woman. You realize that I do know all about that certain season. It was one of the many ways that he could gain the emotional upper hand, made her see that he could emotionally tear her mind down and build her up the way he wanted her to be and not some Starfleet protocol nonsense. He however was caught off guard when she attacked him, he fought back and aimed a punch to her gut, hoping that shock would send her mind into overtime and make her realize that he was just as dangerous as she was, perhaps more. I understand more than you think I do. You can hit me over and over again and yet It is foolish as I ve compromised your mind. Made you feel anger, made you tear down all your Starfleet training by a simply mind meld that you did yourself. He said teasing her as he went. I ll do more than just mate with you Captain. I will take ownership and control of everything you hold dear in the world. He explained to her as he approached he once more. He then tore open her shirt, hoping that she would soon understand what he had done to her. Has your mind told you to fully submit now? He asked her as he smelt the sweat from her body as he fell silent just looking at her, wondering what she was going to do next.\n",
            "\n",
            "Target (next message):\n",
            "\n",
            "She hardly felt the punch to the gut as she slumped back into the chair, her mind still as clear as ever, though she knew her anger had gotten out of hand. It wasn't her fault though thanks to her being in heat. \"Fuck you Khan...I am not going to let you gain control.\" she snarled softly. His words echoed in her mind and she clamped her eyes shut as a shiver shot up her spine. She didn't understand though why he was sexually attracted to her in such a way. Though he may have done something to her, she had returned the favor to him. Soon Khan would start to feel overly sensitive, hot and sweaty as her heat poured into him. She came aware of him tearing her shirt open but she felt no shame in it. Her scarred body appeared before him and she would slowly lean up and grab him hard by the shirt collar. \"Then you must know that females of my kind are a lot more violent then the males. I will not summit to you, you will not have me in your grasp. You try to take this ship over by yourself you will be leading yourself to your death. My crew out number you, we have weapons able to kill you as well.\" she snarled. She didn't know where the weapons where though, only one person did but they were elsewhere on the ship so Khan wouldn't find out. She didn't know who this person was either. \"We have taken protocols since your last attack, there are many things in guard in case creatures like you returned.\" she hissed and her muscles rippled under her flesh as she slammed him off her and back into the bed. She sat on top of Khan and stared down in his eyes. \"Its a shame that a monster like you has such a handsome face.\" she muttered softly. She stared down at the light bruise left on her flesh and smirked as she brought her face close to him, her heat making her more enraged. \"I will admit though, I have seen a few past attempts to bring humans like you back. Other experiments, these illegal though.\" she purred as her hair fell into his eyes and her hot breath hit him in the face.\n"
          ]
        }
      ]
    },
    {
      "cell_type": "code",
      "source": [
        "# Sample a row from train_pairs\n",
        "i = randint(0, len(train_pairs) - 1)\n",
        "sample = train_pairs[i]\n",
        "\n",
        "print(\"Input text:\")\n",
        "print(sample[\"input_text\"])\n",
        "print(\"\\nTarget text:\")\n",
        "print(sample[\"target_text\"])"
      ],
      "metadata": {
        "colab": {
          "base_uri": "https://localhost:8080/"
        },
        "id": "a2d7gnFRkJWn",
        "outputId": "117eb812-dbcb-4c12-92df-1a78b4569da3"
      },
      "execution_count": 14,
      "outputs": [
        {
          "output_type": "stream",
          "name": "stdout",
          "text": [
            "Input text:\n",
            "She gently smiled, softly purring as he slid his delightful cock out of her pussy. She happily kissed him back, and she spoke sweetly,\"Exactly what I wanted to hear. Maybe tomorrow after all classes and activities are done?\" She wanted to do this many more times. She was rather surprised by her own behavior, actively seeking out sex like this, willingly lose her own virginity... She had never been so bold before... But now, she decided she was going to only have sex with Draco.\n",
            "\n",
            "\"Right? It's amazing, isn't it?\" Draco asked with a smile as he slowly slid his cock out of her, groaning as it popped out of her and he kissed her hotly on the lips. \"We can go as often as you like.\" He told her with a smile.\n",
            "\n",
            "She was melting in his arm. It was pure artwork to look at the way his muscles and veins moved. She sweetly spoke,\"Lets do our next round tomorrow. Won't be awake for lessons if we go at it all night... Appealing as that sounds!\" The way his cock was nestled in her backside was so sweetly calling her name... But they had duties and other things they needed to be awake for tomorrow.\n",
            "\n",
            "Target text:\n",
            "\"Sure, we can totally meet up after classes tomorrow.\" Draco said as he kept his arm around her and his cock nestled against her backside as he kissed the back of her neck. \"You tired me out, but I wouldn't be opposed to going again right now.\" He teased as he slid a hand up and cupped one of her breasts.\n"
          ]
        }
      ]
    },
    {
      "cell_type": "markdown",
      "source": [
        "# ------------------------------------------------------------------\n",
        "# 3 · Save to disk"
      ],
      "metadata": {
        "id": "FdpgNtQI2pCd"
      }
    },
    {
      "cell_type": "code",
      "source": [
        "for folder in [\"bluemoon_train_ds\", \"bluemoon_test_ds\"]:\n",
        "    if os.path.exists(folder):\n",
        "        shutil.rmtree(folder)\n",
        "\n",
        "train_pairs.save_to_disk(\"bluemoon_train_ds\")\n",
        "test_pairs.save_to_disk(\"bluemoon_test_ds\")\n",
        "\n",
        "print(\"✅ wrote\", len(train_pairs), \"train examples and\",\n",
        "      len(test_pairs), \"test examples.\")"
      ],
      "metadata": {
        "colab": {
          "base_uri": "https://localhost:8080/",
          "height": 98,
          "referenced_widgets": [
            "191a017ff01f423a9784c3032c4c944f",
            "1cf2a2fa688944fba0458ce5a9592b38",
            "40498184f827460b9c4a445eb06b6503",
            "69c46a8dec0441db9aa83e4849576e6e",
            "ba4d6d3afb8a4544b56d958c4260e9f1",
            "1f4fe87e5e4f4c40a2349b0e38f795c4",
            "9e04daebea4543aabbcb3b6b4e920392",
            "09a9cb4545f343cd802a6d20c6a3f15b",
            "05c18540e5b64db3a7ca473ca2d26267",
            "f305f42b2a514b76ab4ff86cc07a0464",
            "535ee97f90fb42afbf039c7ebb6a1b26",
            "07f9ae0043c841f48b489a1ff33ac2cc",
            "d395d8f185414c3b8105a75adb189ea3",
            "6aae6146673545eab59a62e38a9ca161",
            "9373335d56554b1ca25a3c46abb4dd98",
            "702f6955f25f489face2aae810f0b7a2",
            "febdf1ecbd9c47abb646612bd633c61f",
            "de603cc6a38843c5a3cc439158381186",
            "bcfea681d088452a8f3f7026858f6e4a",
            "bfdfc5275df64a2e9a9bbe05da94b594",
            "b8efbf15bd5b4be6bbe4f7f7168c4f36",
            "12b01c5df6424aaab6c4779fefbc22e5"
          ]
        },
        "id": "CjAEmJwN2KQI",
        "outputId": "50e3eeba-af51-4b21-ae27-82d1460fa08e"
      },
      "execution_count": 15,
      "outputs": [
        {
          "output_type": "display_data",
          "data": {
            "text/plain": [
              "Saving the dataset (0/2 shards):   0%|          | 0/176828 [00:00<?, ? examples/s]"
            ],
            "application/vnd.jupyter.widget-view+json": {
              "version_major": 2,
              "version_minor": 0,
              "model_id": "191a017ff01f423a9784c3032c4c944f"
            }
          },
          "metadata": {}
        },
        {
          "output_type": "display_data",
          "data": {
            "text/plain": [
              "Saving the dataset (0/1 shards):   0%|          | 0/73396 [00:00<?, ? examples/s]"
            ],
            "application/vnd.jupyter.widget-view+json": {
              "version_major": 2,
              "version_minor": 0,
              "model_id": "07f9ae0043c841f48b489a1ff33ac2cc"
            }
          },
          "metadata": {}
        },
        {
          "output_type": "stream",
          "name": "stdout",
          "text": [
            "✅ wrote 176828 train examples and 73396 test examples.\n"
          ]
        }
      ]
    },
    {
      "cell_type": "markdown",
      "source": [
        "# ------------------------------------------------------------------\n",
        "# 4 · Tokenization"
      ],
      "metadata": {
        "id": "Rj5GodFh34si"
      }
    },
    {
      "cell_type": "code",
      "source": [
        "# ─── Tokenization Cell ─────────────────────────────────────────────────────\n",
        "from datasets import load_from_disk\n",
        "from transformers import AutoTokenizer\n",
        "from tqdm.auto import tqdm\n",
        "import os\n",
        "\n",
        "# 1) Load GPT-2 tokenizer and ensure it has a pad token\n",
        "tok = AutoTokenizer.from_pretrained(\"gpt2\", trust_remote_code=True)\n",
        "if tok.pad_token is None:\n",
        "    tok.pad_token = tok.eos_token\n",
        "\n",
        "# 2) Define encoding function\n",
        "def encode(batch):\n",
        "    # Tokenize context and target separately\n",
        "    enc = tok(batch[\"input_text\"],\n",
        "              truncation=True,\n",
        "              padding=\"longest\",\n",
        "              max_length=2048)\n",
        "    lab = tok(batch[\"target_text\"],\n",
        "              truncation=True,\n",
        "              padding=\"longest\",\n",
        "              max_length=512)\n",
        "    return {\n",
        "        \"input_ids\":      enc[\"input_ids\"],\n",
        "        \"attention_mask\": enc[\"attention_mask\"],\n",
        "        \"labels\":         lab[\"input_ids\"],\n",
        "    }\n",
        "\n",
        "# 3) Process and save both splits\n",
        "for split in [\"train\", \"test\"]:\n",
        "    ds = load_from_disk(f\"bluemoon_{split}_ds\")\n",
        "    ds_tok = ds.map(\n",
        "        encode,\n",
        "        batched=True,\n",
        "        remove_columns=ds.column_names,\n",
        "        num_proc=8,\n",
        "        desc=f\"Tokenizing {split}\"\n",
        "    )\n",
        "    out_dir = f\"bluemoon_{split}_tok_ds\"\n",
        "    if os.path.exists(out_dir):\n",
        "        os.makedirs(out_dir, exist_ok=True)\n",
        "    ds_tok.save_to_disk(out_dir)\n"
      ],
      "metadata": {
        "colab": {
          "base_uri": "https://localhost:8080/",
          "height": 145,
          "referenced_widgets": [
            "dcf7fb1f62ed43bf822d340d2dfac8ee",
            "241bddc646ac4f59a51e8be17dcb91fb",
            "414fd651dbdd42ab842920491c261d62",
            "a85c6bc22fb64270b773699b9dff4621",
            "9fb9a85656db47f3b3343ab5e49578d4",
            "35035ef40689480fb69915e8c10a5064",
            "d44de67033f74db9bc613f35d7ad837d",
            "0845b7e18b5f4512983e0dbf3f890958",
            "faa9af58dffc48ab965a19d88751a6ae",
            "fa92f759e9e84e3a8c90bcce44a58db2",
            "26e88284b82b4499967905391c34174a",
            "2ed10e3c13e046f5852bcf53f9c9323d",
            "03ca7a617b7b40648254655b5f785fef",
            "cf0f8e4c92a046db8353bb697397e89a",
            "1f702d7e54314e3a99b6548f4a3a9290",
            "aa0ddf77638740fab5cfcef46edbbfee",
            "93499a6eda644affadc1af7e8518ffaa",
            "9122bbe2a200425dbf0a8c9d041fdb7b",
            "23006a2263614e8f86bf5427ae93dcd1",
            "7aeffff46c9b4e18b4c9b5a5e7861bbe",
            "dd5c545dabd74e1ea23687ac25aa7f1a",
            "9965f57a348b4a00aea11a19cc8c5a07",
            "189fd3c6b897438f99e5c952fb5192d0",
            "74a29957ec4745b1902dfa7370419bf8",
            "da1668eb98e34e478863c1ec7150806f",
            "76027a22fe714c7f99b724c5fc65e8b0",
            "0154c9d92b0b4a1b90be12860a86b92a",
            "4ecacdef87484a13be766b6cd4441bb7",
            "8ea425e5fed94208a972edf8504f5a42",
            "4664fa3fe254400893b26bdfaf2d9b86",
            "9b64100862a848b5b9af7e224a6adf1d",
            "61e956aa610f4739b4e39d50661539cc",
            "8ba698f636084e2f808d005c202d5241",
            "e48835e00c8b42b28f2e78ca4c08c040",
            "49632b10e7704aecb99061ac8b0ea21c",
            "dc5069663e974a3aade6b5eb9f9914cc",
            "2c2d258e0efb430bbb591696004304f2",
            "2802eeccec814b38b38ce9c3caa619ef",
            "7d642ade3d254ff0b9e80e1e982553b0",
            "264718d0481f47308cdb61552ba59a3f",
            "acb27fe6f7ba4151b6b08342509ea403",
            "6eaae34f19234058aad03dad09b396fe",
            "7a7a7cad626d40dcb19af510e906f01e",
            "4f9fff8ca24a45e2a3700b3fb85390f4"
          ]
        },
        "id": "-ZEcZfT931fm",
        "outputId": "313d6360-372e-422c-fcde-c1348a0f9e2a"
      },
      "execution_count": 16,
      "outputs": [
        {
          "output_type": "display_data",
          "data": {
            "text/plain": [
              "Tokenizing train (num_proc=8):   0%|          | 0/176828 [00:00<?, ? examples/s]"
            ],
            "application/vnd.jupyter.widget-view+json": {
              "version_major": 2,
              "version_minor": 0,
              "model_id": "dcf7fb1f62ed43bf822d340d2dfac8ee"
            }
          },
          "metadata": {}
        },
        {
          "output_type": "display_data",
          "data": {
            "text/plain": [
              "Saving the dataset (0/5 shards):   0%|          | 0/176828 [00:00<?, ? examples/s]"
            ],
            "application/vnd.jupyter.widget-view+json": {
              "version_major": 2,
              "version_minor": 0,
              "model_id": "2ed10e3c13e046f5852bcf53f9c9323d"
            }
          },
          "metadata": {}
        },
        {
          "output_type": "display_data",
          "data": {
            "text/plain": [
              "Tokenizing test (num_proc=8):   0%|          | 0/73396 [00:00<?, ? examples/s]"
            ],
            "application/vnd.jupyter.widget-view+json": {
              "version_major": 2,
              "version_minor": 0,
              "model_id": "189fd3c6b897438f99e5c952fb5192d0"
            }
          },
          "metadata": {}
        },
        {
          "output_type": "display_data",
          "data": {
            "text/plain": [
              "Saving the dataset (0/3 shards):   0%|          | 0/73396 [00:00<?, ? examples/s]"
            ],
            "application/vnd.jupyter.widget-view+json": {
              "version_major": 2,
              "version_minor": 0,
              "model_id": "e48835e00c8b42b28f2e78ca4c08c040"
            }
          },
          "metadata": {}
        }
      ]
    },
    {
      "cell_type": "markdown",
      "source": [
        "# ------------------------------------------------------------------\n",
        "# 5 · train mini deepseek"
      ],
      "metadata": {
        "id": "DWWSOiJz21TT"
      }
    },
    {
      "cell_type": "code",
      "source": [
        "import importlib, mini_deepseek\n",
        "importlib.reload(mini_deepseek)\n",
        "from mini_deepseek import RolePlayTransformer"
      ],
      "metadata": {
        "id": "8UJMiryv7ztP"
      },
      "execution_count": 62,
      "outputs": []
    },
    {
      "cell_type": "code",
      "source": [
        "DATA_DIR = \"bluemoon_train_tok_ds\"   # ← change if needed\n",
        "CKPT_DIR = \"mini_ds_ckpts\"           # checkpoints go here\n",
        "#tokenizer_name = \"deepseek-ai/DeepSeek-V3\"\n",
        "tokenizer_name = \"gpt2\"\n",
        "\n",
        "# 2 ▸ import your model class\n",
        "from mini_deepseek import RolePlayTransformer\n",
        "from transformers import AutoTokenizer\n",
        "import torch, os, math\n",
        "\n",
        "tok   = AutoTokenizer.from_pretrained(\"gpt2\", trust_remote_code=True)\n",
        "tok.pad_token = tok.eos_token\n",
        "model = RolePlayTransformer(\n",
        "    vocab=len(tok),\n",
        "    gradient_checkpointing=True,\n",
        ")          # keep defaults or tweak dims\n",
        "\n",
        "os.makedirs(CKPT_DIR, exist_ok=True)                 # make sure folder exists\n",
        "\n",
        "# 5 ▸ train (prints loss every 100 steps, saves each epoch)\n",
        "model.train_model(\n",
        "    dataset_path = DATA_DIR,         # ← tokenised Arrow dataset folder\n",
        "    tokenizer_name = \"gpt2\",\n",
        "    epochs = 5,\n",
        "    micro_batch = 4,\n",
        "    grad_accum   = 8,   # effective 32\n",
        "    lr = 1.5e-4,\n",
        "    warmup_updates = 1000,\n",
        "    device = \"cuda\" if torch.cuda.is_available() else \"cpu\",\n",
        "    save_path = CKPT_DIR,\n",
        ")\n"
      ],
      "metadata": {
        "colab": {
          "base_uri": "https://localhost:8080/"
        },
        "id": "QgVhmUfW2s8R",
        "outputId": "36c0eab0-110c-4529-dcde-7f5b2ec8c6fa"
      },
      "execution_count": null,
      "outputs": [
        {
          "metadata": {
            "tags": null
          },
          "name": "stderr",
          "output_type": "stream",
          "text": [
            "/usr/local/lib/python3.11/dist-packages/torch/_dynamo/eval_frame.py:745: UserWarning: torch.utils.checkpoint: the use_reentrant parameter should be passed explicitly. In version 2.5 we will raise an exception if use_reentrant is not passed. use_reentrant=False is recommended, but if you need to preserve the current default behavior, you can pass use_reentrant=True. Refer to docs for more details on the differences between the two variants.\n",
            "  return fn(*args, **kwargs)\n"
          ]
        },
        {
          "output_type": "stream",
          "name": "stdout",
          "text": [
            "epoch 1 | update 100 | loss 19.7773\n",
            "epoch 1 | update 200 | loss 11.0888\n",
            "epoch 1 | update 300 | loss 11.9902\n",
            "epoch 1 | update 400 | loss 14.0733\n",
            "epoch 1 | update 500 | loss 4.6649\n",
            "epoch 1 | update 600 | loss 15.0917\n",
            "epoch 1 | update 700 | loss 5.1662\n",
            "epoch 1 | update 800 | loss 2.6873\n",
            "epoch 1 | update 900 | loss 6.1856\n",
            "epoch 1 | update 1000 | loss 10.1230\n",
            "epoch 1 | update 1100 | loss 3.7102\n",
            "epoch 1 | update 1200 | loss 3.1111\n",
            "epoch 1 | update 1300 | loss 2.3632\n",
            "epoch 1 | update 1400 | loss 1.6231\n",
            "epoch 1 | update 1500 | loss 4.7958\n",
            "epoch 1 | update 1600 | loss 1.7974\n",
            "epoch 1 | update 1700 | loss 2.2119\n",
            "epoch 1 | update 1800 | loss 2.8110\n",
            "epoch 1 | update 1900 | loss 2.7682\n",
            "epoch 1 | update 2000 | loss 4.1491\n",
            "epoch 1 | update 2100 | loss 4.7361\n",
            "epoch 1 | update 2200 | loss 3.5256\n",
            "epoch 1 | update 2300 | loss 1.4579\n",
            "epoch 1 | update 2400 | loss 1.6036\n",
            "epoch 1 | update 2500 | loss 1.6332\n",
            "epoch 1 | update 2600 | loss 3.2005\n",
            "epoch 1 | update 2700 | loss 2.9208\n",
            "epoch 1 | update 2800 | loss 2.6179\n",
            "epoch 1 | update 2900 | loss 1.5385\n",
            "epoch 1 | update 3000 | loss 1.5200\n",
            "epoch 1 | update 3100 | loss 2.5123\n",
            "epoch 1 | update 3200 | loss 1.6839\n",
            "epoch 1 | update 3300 | loss 2.8185\n",
            "epoch 1 | update 3400 | loss 3.0391\n",
            "epoch 1 | update 3500 | loss 0.5341\n",
            "epoch 1 | update 3600 | loss 0.8641\n",
            "epoch 1 | update 3700 | loss 2.7347\n",
            "epoch 1 | update 3800 | loss 2.4775\n",
            "epoch 1 | update 3900 | loss 2.5395\n",
            "epoch 1 | update 4000 | loss 1.7101\n",
            "epoch 1 | update 4100 | loss 2.1321\n",
            "epoch 1 | update 4200 | loss 2.8765\n",
            "epoch 1 | update 4300 | loss 1.3668\n",
            "epoch 1 | update 4400 | loss 3.5999\n",
            "epoch 1 | update 4500 | loss 2.3943\n",
            "epoch 1 | update 4600 | loss 1.2529\n",
            "epoch 1 | update 4700 | loss 2.1629\n",
            "epoch 1 | update 4800 | loss 1.5584\n",
            "epoch 1 | update 4900 | loss 1.6103\n",
            "epoch 1 | update 5000 | loss 2.4414\n",
            "epoch 1 | update 5100 | loss 1.4235\n",
            "epoch 1 | update 5200 | loss 1.0661\n",
            "epoch 1 | update 5300 | loss 2.0345\n",
            "epoch 1 | update 5400 | loss 2.5468\n",
            "epoch 1 | update 5500 | loss 2.4255\n",
            "epoch 2 | update 5600 | loss 2.3302\n",
            "epoch 2 | update 5700 | loss 2.1232\n",
            "epoch 2 | update 5800 | loss 1.5648\n",
            "epoch 2 | update 5900 | loss 2.8815\n",
            "epoch 2 | update 6000 | loss 2.3700\n",
            "epoch 2 | update 6100 | loss 2.5288\n",
            "epoch 2 | update 6200 | loss 1.7945\n",
            "epoch 2 | update 6300 | loss 1.0763\n",
            "epoch 2 | update 6400 | loss 1.6827\n",
            "epoch 2 | update 6500 | loss 1.7096\n",
            "epoch 2 | update 6600 | loss 1.6007\n",
            "epoch 2 | update 6700 | loss 2.3323\n",
            "epoch 2 | update 6800 | loss 0.9673\n",
            "epoch 2 | update 6900 | loss 1.0213\n",
            "epoch 2 | update 7000 | loss 1.6912\n",
            "epoch 2 | update 7100 | loss 0.7276\n",
            "epoch 2 | update 7200 | loss 2.2690\n",
            "epoch 2 | update 7300 | loss 3.6133\n",
            "epoch 2 | update 7400 | loss 1.7795\n",
            "epoch 2 | update 7500 | loss 2.5777\n",
            "epoch 2 | update 7600 | loss 1.4958\n",
            "epoch 2 | update 7700 | loss 1.5844\n",
            "epoch 2 | update 7800 | loss 2.6460\n",
            "epoch 2 | update 7900 | loss 1.9622\n",
            "epoch 2 | update 8000 | loss 2.0023\n",
            "epoch 2 | update 8100 | loss 1.1188\n",
            "epoch 2 | update 8200 | loss 2.2549\n",
            "epoch 2 | update 8300 | loss 1.9298\n",
            "epoch 2 | update 8400 | loss 3.6943\n",
            "epoch 2 | update 8500 | loss 1.1053\n",
            "epoch 2 | update 8600 | loss 2.7523\n",
            "epoch 2 | update 8700 | loss 4.3709\n",
            "epoch 2 | update 8800 | loss 2.1196\n",
            "epoch 2 | update 8900 | loss 1.3865\n",
            "epoch 2 | update 9000 | loss 1.0611\n",
            "epoch 2 | update 9100 | loss 1.8961\n",
            "epoch 2 | update 9200 | loss 1.7417\n",
            "epoch 2 | update 9300 | loss 4.4556\n",
            "epoch 2 | update 9400 | loss 2.2009\n",
            "epoch 2 | update 9500 | loss 0.9868\n",
            "epoch 2 | update 9600 | loss 1.0929\n",
            "epoch 2 | update 9700 | loss 2.1369\n",
            "epoch 2 | update 9800 | loss 2.0366\n",
            "epoch 2 | update 9900 | loss 2.1034\n",
            "epoch 2 | update 10000 | loss 1.4227\n",
            "epoch 2 | update 10100 | loss 2.5053\n",
            "epoch 2 | update 10200 | loss 2.4376\n",
            "epoch 2 | update 10300 | loss 0.3396\n",
            "epoch 2 | update 10400 | loss 1.9763\n",
            "epoch 2 | update 10500 | loss 2.6816\n",
            "epoch 2 | update 10600 | loss 3.3535\n",
            "epoch 2 | update 10700 | loss 1.4434\n",
            "epoch 2 | update 10800 | loss 1.4276\n",
            "epoch 2 | update 10900 | loss 4.6909\n",
            "epoch 2 | update 11000 | loss 1.1487\n",
            "epoch 3 | update 11100 | loss 2.1592\n"
          ]
        }
      ]
    },
    {
      "cell_type": "markdown",
      "source": [
        "# ------------------------------------------------------------------\n",
        "# 6 · Perplexity of mini deepseek\n"
      ],
      "metadata": {
        "id": "FZ_JYGcXAe7s"
      }
    },
    {
      "cell_type": "code",
      "source": [
        "import torch\n",
        "\n",
        "from mini_deepseek import RolePlayTransformer\n",
        "#from markov_baseline import MarkovChain\n"
      ],
      "metadata": {
        "id": "OowhQlTOAd-l"
      },
      "execution_count": 63,
      "outputs": []
    },
    {
      "cell_type": "code",
      "source": [
        "%env CUDA_LAUNCH_BLOCKING=1"
      ],
      "metadata": {
        "colab": {
          "base_uri": "https://localhost:8080/"
        },
        "id": "nrvkrLD27cDs",
        "outputId": "049cf566-b905-4c52-e6c2-cc9259555264"
      },
      "execution_count": 73,
      "outputs": [
        {
          "output_type": "stream",
          "name": "stdout",
          "text": [
            "env: CUDA_LAUNCH_BLOCKING=1\n"
          ]
        }
      ]
    },
    {
      "cell_type": "code",
      "source": [
        "import gc\n",
        "\n",
        "# 1. Delete large objects if they exist\n",
        "for var in ['model', 'optimizer', 'loader', 'ds']:\n",
        "    if var in globals():\n",
        "        try:\n",
        "            del globals()[var]\n",
        "        except:\n",
        "            pass\n",
        "\n",
        "# 2. Run garbage collector\n",
        "gc.collect()\n",
        "\n",
        "# 3. Clear PyTorch CUDA cache\n",
        "if torch.cuda.is_available():\n",
        "    torch.cuda.empty_cache()"
      ],
      "metadata": {
        "id": "Wb3tLWB3NNhV"
      },
      "execution_count": 64,
      "outputs": []
    },
    {
      "cell_type": "code",
      "source": [
        "DATA_DIR = \"bluemoon_test_tok_ds\"\n",
        "device   = \"cuda\" if torch.cuda.is_available() else \"cpu\"\n",
        "\n",
        "model = RolePlayTransformer(vocab=len(tok), gradient_checkpointing=True).to(device)\n",
        "model.load_state_dict(torch.load(f\"ckpt_ep2.pt\", map_location=device, weights_only=False))\n",
        "model.eval()"
      ],
      "metadata": {
        "colab": {
          "base_uri": "https://localhost:8080/"
        },
        "id": "uBqKtvA3A7Wk",
        "outputId": "efe5c5f7-d43d-4ff5-fe42-4bed3086b0dd"
      },
      "execution_count": 65,
      "outputs": [
        {
          "output_type": "execute_result",
          "data": {
            "text/plain": [
              "RolePlayTransformer(\n",
              "  (embed): Embedding(50257, 768)\n",
              "  (layers): ModuleList(\n",
              "    (0-4): 5 x TransformerBlock(\n",
              "      (attn_norm): RMSNorm()\n",
              "      (attn): MLA(\n",
              "        (kv_proj): Linear(in_features=768, out_features=1536, bias=False)\n",
              "        (q_proj): Linear(in_features=768, out_features=768, bias=False)\n",
              "        (o_proj): Linear(in_features=768, out_features=768, bias=False)\n",
              "        (drop): Dropout(p=0.1, inplace=False)\n",
              "      )\n",
              "      (ffn_norm): RMSNorm()\n",
              "      (ffn): FeedForward(\n",
              "        (net): Sequential(\n",
              "          (0): Linear(in_features=768, out_features=3072, bias=False)\n",
              "          (1): GELU(approximate='none')\n",
              "          (2): Dropout(p=0.1, inplace=False)\n",
              "          (3): Linear(in_features=3072, out_features=768, bias=False)\n",
              "          (4): Dropout(p=0.1, inplace=False)\n",
              "        )\n",
              "      )\n",
              "    )\n",
              "    (5-9): 5 x TransformerBlock(\n",
              "      (attn_norm): RMSNorm()\n",
              "      (attn): MLA(\n",
              "        (kv_proj): Linear(in_features=768, out_features=1536, bias=False)\n",
              "        (q_proj): Linear(in_features=768, out_features=768, bias=False)\n",
              "        (o_proj): Linear(in_features=768, out_features=768, bias=False)\n",
              "        (drop): Dropout(p=0.1, inplace=False)\n",
              "      )\n",
              "      (ffn_norm): RMSNorm()\n",
              "      (ffn): MoEBlock(\n",
              "        (router): Linear(in_features=768, out_features=4, bias=False)\n",
              "        (experts): ModuleList(\n",
              "          (0-3): 4 x Sequential(\n",
              "            (0): Linear(in_features=768, out_features=3072, bias=False)\n",
              "            (1): GELU(approximate='none')\n",
              "            (2): Dropout(p=0.1, inplace=False)\n",
              "            (3): Linear(in_features=3072, out_features=768, bias=False)\n",
              "            (4): Dropout(p=0.1, inplace=False)\n",
              "          )\n",
              "        )\n",
              "      )\n",
              "    )\n",
              "  )\n",
              "  (norm): RMSNorm()\n",
              "  (lm_head): Linear(in_features=768, out_features=50257, bias=False)\n",
              "  (mtp_head): Linear(in_features=768, out_features=50257, bias=False)\n",
              ")"
            ]
          },
          "metadata": {},
          "execution_count": 65
        }
      ]
    },
    {
      "cell_type": "code",
      "source": [
        "ppl_transformer = model.evaluate_perplexity(\n",
        "    dataset_path=DATA_DIR,\n",
        "    tokenizer=tok,\n",
        "    device=device,\n",
        "    batch_size=8\n",
        ")\n",
        "print(f\"Transformer perplexity: {ppl_transformer:.2f}\")\n"
      ],
      "metadata": {
        "colab": {
          "base_uri": "https://localhost:8080/"
        },
        "id": "zTOYFDw0IJ13",
        "outputId": "4eb4cede-fdd3-4e00-df64-e5f30191bf4f"
      },
      "execution_count": 20,
      "outputs": [
        {
          "output_type": "stream",
          "name": "stdout",
          "text": [
            "[  100/ 9175 batches] Tokens 408,800 • AvgCE 2.0739 • PPL ≈ 7.96\n",
            "[  200/ 9175 batches] Tokens 817,600 • AvgCE 2.3483 • PPL ≈ 10.47\n",
            "[  300/ 9175 batches] Tokens 1,226,400 • AvgCE 1.9770 • PPL ≈ 7.22\n",
            "[  400/ 9175 batches] Tokens 1,635,200 • AvgCE 2.0344 • PPL ≈ 7.65\n",
            "[  500/ 9175 batches] Tokens 2,044,000 • AvgCE 2.1511 • PPL ≈ 8.59\n",
            "[  600/ 9175 batches] Tokens 2,452,800 • AvgCE 2.0710 • PPL ≈ 7.93\n",
            "[  700/ 9175 batches] Tokens 2,861,600 • AvgCE 2.0026 • PPL ≈ 7.41\n",
            "[  800/ 9175 batches] Tokens 3,270,400 • AvgCE 2.0600 • PPL ≈ 7.85\n",
            "[  900/ 9175 batches] Tokens 3,679,200 • AvgCE 2.0244 • PPL ≈ 7.57\n",
            "[ 1000/ 9175 batches] Tokens 4,088,000 • AvgCE 1.9910 • PPL ≈ 7.32\n",
            "[ 1100/ 9175 batches] Tokens 4,496,800 • AvgCE 1.9078 • PPL ≈ 6.74\n",
            "[ 1200/ 9175 batches] Tokens 4,905,600 • AvgCE 1.9754 • PPL ≈ 7.21\n",
            "[ 1300/ 9175 batches] Tokens 5,314,400 • AvgCE 2.0253 • PPL ≈ 7.58\n",
            "[ 1400/ 9175 batches] Tokens 5,723,200 • AvgCE 2.0726 • PPL ≈ 7.95\n",
            "[ 1500/ 9175 batches] Tokens 6,132,000 • AvgCE 2.0861 • PPL ≈ 8.05\n",
            "[ 1600/ 9175 batches] Tokens 6,540,801 • AvgCE 2.0763 • PPL ≈ 7.97\n",
            "[ 1700/ 9175 batches] Tokens 6,949,608 • AvgCE 2.0954 • PPL ≈ 8.13\n",
            "[ 1800/ 9175 batches] Tokens 7,358,408 • AvgCE 2.1033 • PPL ≈ 8.19\n",
            "[ 1900/ 9175 batches] Tokens 7,767,208 • AvgCE 2.0835 • PPL ≈ 8.03\n",
            "[ 2000/ 9175 batches] Tokens 8,176,008 • AvgCE 2.0422 • PPL ≈ 7.71\n",
            "[ 2100/ 9175 batches] Tokens 8,584,808 • AvgCE 1.9765 • PPL ≈ 7.22\n",
            "[ 2200/ 9175 batches] Tokens 8,886,934 • AvgCE 1.9776 • PPL ≈ 7.23\n",
            "[ 2300/ 9175 batches] Tokens 9,098,216 • AvgCE 1.9560 • PPL ≈ 7.07\n",
            "[ 2400/ 9175 batches] Tokens 9,507,016 • AvgCE 1.9206 • PPL ≈ 6.83\n",
            "[ 2500/ 9175 batches] Tokens 9,915,816 • AvgCE 1.9338 • PPL ≈ 6.92\n",
            "[ 2600/ 9175 batches] Tokens 10,324,616 • AvgCE 1.9527 • PPL ≈ 7.05\n",
            "[ 2700/ 9175 batches] Tokens 10,733,416 • AvgCE 1.9322 • PPL ≈ 6.90\n",
            "[ 2800/ 9175 batches] Tokens 11,142,216 • AvgCE 1.9350 • PPL ≈ 6.92\n",
            "[ 2900/ 9175 batches] Tokens 11,551,016 • AvgCE 1.9397 • PPL ≈ 6.96\n",
            "[ 3000/ 9175 batches] Tokens 11,959,816 • AvgCE 1.9309 • PPL ≈ 6.90\n",
            "[ 3100/ 9175 batches] Tokens 12,368,616 • AvgCE 1.9343 • PPL ≈ 6.92\n",
            "[ 3200/ 9175 batches] Tokens 12,777,416 • AvgCE 1.9353 • PPL ≈ 6.93\n",
            "[ 3300/ 9175 batches] Tokens 13,186,216 • AvgCE 1.9365 • PPL ≈ 6.93\n",
            "[ 3400/ 9175 batches] Tokens 13,595,016 • AvgCE 1.9190 • PPL ≈ 6.81\n",
            "[ 3500/ 9175 batches] Tokens 14,003,816 • AvgCE 1.9307 • PPL ≈ 6.89\n",
            "[ 3600/ 9175 batches] Tokens 14,412,619 • AvgCE 1.9223 • PPL ≈ 6.84\n",
            "[ 3700/ 9175 batches] Tokens 14,821,424 • AvgCE 1.8989 • PPL ≈ 6.68\n",
            "[ 3800/ 9175 batches] Tokens 15,230,224 • AvgCE 1.8898 • PPL ≈ 6.62\n",
            "[ 3900/ 9175 batches] Tokens 15,639,024 • AvgCE 1.8961 • PPL ≈ 6.66\n",
            "[ 4000/ 9175 batches] Tokens 16,047,824 • AvgCE 1.9120 • PPL ≈ 6.77\n",
            "[ 4100/ 9175 batches] Tokens 16,456,627 • AvgCE 1.9123 • PPL ≈ 6.77\n",
            "[ 4200/ 9175 batches] Tokens 16,853,730 • AvgCE 1.9026 • PPL ≈ 6.70\n",
            "[ 4300/ 9175 batches] Tokens 17,137,730 • AvgCE 1.8833 • PPL ≈ 6.58\n",
            "[ 4400/ 9175 batches] Tokens 17,527,035 • AvgCE 1.8517 • PPL ≈ 6.37\n",
            "[ 4500/ 9175 batches] Tokens 17,935,838 • AvgCE 1.8182 • PPL ≈ 6.16\n",
            "[ 4600/ 9175 batches] Tokens 18,344,647 • AvgCE 1.8100 • PPL ≈ 6.11\n",
            "[ 4700/ 9175 batches] Tokens 18,753,447 • AvgCE 1.8079 • PPL ≈ 6.10\n",
            "[ 4800/ 9175 batches] Tokens 19,162,247 • AvgCE 1.8050 • PPL ≈ 6.08\n",
            "[ 4900/ 9175 batches] Tokens 19,571,047 • AvgCE 1.8236 • PPL ≈ 6.19\n",
            "[ 5000/ 9175 batches] Tokens 19,979,847 • AvgCE 1.8409 • PPL ≈ 6.30\n",
            "[ 5100/ 9175 batches] Tokens 20,388,647 • AvgCE 1.8617 • PPL ≈ 6.43\n",
            "[ 5200/ 9175 batches] Tokens 20,797,447 • AvgCE 1.8442 • PPL ≈ 6.32\n",
            "[ 5300/ 9175 batches] Tokens 21,206,247 • AvgCE 1.8556 • PPL ≈ 6.40\n",
            "[ 5400/ 9175 batches] Tokens 21,615,047 • AvgCE 1.8764 • PPL ≈ 6.53\n",
            "[ 5500/ 9175 batches] Tokens 22,023,847 • AvgCE 1.8831 • PPL ≈ 6.57\n",
            "[ 5600/ 9175 batches] Tokens 22,432,647 • AvgCE 1.8776 • PPL ≈ 6.54\n",
            "[ 5700/ 9175 batches] Tokens 22,841,447 • AvgCE 1.8738 • PPL ≈ 6.51\n",
            "[ 5800/ 9175 batches] Tokens 23,250,253 • AvgCE 1.8705 • PPL ≈ 6.49\n",
            "[ 5900/ 9175 batches] Tokens 23,659,053 • AvgCE 1.8906 • PPL ≈ 6.62\n",
            "[ 6000/ 9175 batches] Tokens 24,067,853 • AvgCE 1.8968 • PPL ≈ 6.66\n",
            "[ 6100/ 9175 batches] Tokens 24,476,653 • AvgCE 1.8896 • PPL ≈ 6.62\n",
            "[ 6200/ 9175 batches] Tokens 24,885,453 • AvgCE 1.8948 • PPL ≈ 6.65\n",
            "[ 6300/ 9175 batches] Tokens 25,294,253 • AvgCE 1.9165 • PPL ≈ 6.80\n",
            "[ 6400/ 9175 batches] Tokens 25,703,053 • AvgCE 1.9176 • PPL ≈ 6.80\n",
            "[ 6500/ 9175 batches] Tokens 26,111,853 • AvgCE 1.9220 • PPL ≈ 6.83\n",
            "[ 6600/ 9175 batches] Tokens 26,520,653 • AvgCE 1.9106 • PPL ≈ 6.76\n",
            "[ 6700/ 9175 batches] Tokens 26,929,453 • AvgCE 1.9011 • PPL ≈ 6.69\n",
            "[ 6800/ 9175 batches] Tokens 27,338,253 • AvgCE 1.9187 • PPL ≈ 6.81\n",
            "[ 6900/ 9175 batches] Tokens 27,747,053 • AvgCE 1.9355 • PPL ≈ 6.93\n",
            "[ 7000/ 9175 batches] Tokens 28,155,853 • AvgCE 1.9286 • PPL ≈ 6.88\n",
            "[ 7100/ 9175 batches] Tokens 28,564,653 • AvgCE 1.9160 • PPL ≈ 6.79\n",
            "[ 7200/ 9175 batches] Tokens 28,944,749 • AvgCE 1.9146 • PPL ≈ 6.78\n",
            "[ 7300/ 9175 batches] Tokens 29,330,253 • AvgCE 1.9046 • PPL ≈ 6.72\n",
            "[ 7400/ 9175 batches] Tokens 29,739,053 • AvgCE 1.8813 • PPL ≈ 6.56\n",
            "[ 7500/ 9175 batches] Tokens 30,147,853 • AvgCE 1.8706 • PPL ≈ 6.49\n",
            "[ 7600/ 9175 batches] Tokens 30,556,653 • AvgCE 1.8855 • PPL ≈ 6.59\n",
            "[ 7700/ 9175 batches] Tokens 30,965,453 • AvgCE 1.8925 • PPL ≈ 6.64\n",
            "[ 7800/ 9175 batches] Tokens 31,374,253 • AvgCE 1.8943 • PPL ≈ 6.65\n",
            "[ 7900/ 9175 batches] Tokens 31,783,053 • AvgCE 1.8866 • PPL ≈ 6.60\n",
            "[ 8000/ 9175 batches] Tokens 32,191,853 • AvgCE 1.8862 • PPL ≈ 6.59\n",
            "[ 8100/ 9175 batches] Tokens 32,600,653 • AvgCE 1.8962 • PPL ≈ 6.66\n",
            "[ 8200/ 9175 batches] Tokens 33,009,453 • AvgCE 1.8941 • PPL ≈ 6.65\n",
            "[ 8300/ 9175 batches] Tokens 33,418,253 • AvgCE 1.8939 • PPL ≈ 6.64\n",
            "[ 8400/ 9175 batches] Tokens 33,827,053 • AvgCE 1.8856 • PPL ≈ 6.59\n",
            "[ 8500/ 9175 batches] Tokens 34,235,853 • AvgCE 1.8912 • PPL ≈ 6.63\n",
            "[ 8600/ 9175 batches] Tokens 34,644,653 • AvgCE 1.8789 • PPL ≈ 6.55\n",
            "[ 8700/ 9175 batches] Tokens 35,053,453 • AvgCE 1.8814 • PPL ≈ 6.56\n",
            "[ 8800/ 9175 batches] Tokens 35,462,255 • AvgCE 1.8767 • PPL ≈ 6.53\n",
            "[ 8900/ 9175 batches] Tokens 35,871,055 • AvgCE 1.8667 • PPL ≈ 6.47\n",
            "[ 9000/ 9175 batches] Tokens 36,279,857 • AvgCE 1.8531 • PPL ≈ 6.38\n",
            "[ 9100/ 9175 batches] Tokens 36,688,663 • AvgCE 1.8363 • PPL ≈ 6.27\n",
            "[ 9175/ 9175 batches] Tokens 36,993,219 • AvgCE 1.8411 • PPL ≈ 6.30\n",
            "\n",
            "Final test perplexity: 6.30\n",
            "Transformer perplexity: 6.30\n"
          ]
        }
      ]
    },
    {
      "cell_type": "code",
      "source": [
        "# 1) Simple greeting exchange\n",
        "prev_msgs = [\n",
        "    \"Hi there!\",\n",
        "    \"Hello! How can I help you today?\",\n",
        "    \"Can you tell me a joke?\"\n",
        "]\n",
        "\n",
        "reply = model.generate_chat(prev_msgs, max_new_tokens=30, temperature=0.8, top_k = 50)\n",
        "print(reply)\n"
      ],
      "metadata": {
        "colab": {
          "base_uri": "https://localhost:8080/"
        },
        "id": "k4WPTlHAKIi0",
        "outputId": "8bb0e641-1bba-4c51-bb70-4e4032a9ba4e"
      },
      "execution_count": 74,
      "outputs": [
        {
          "output_type": "stream",
          "name": "stdout",
          "text": [
            "Hi there!\n",
            "Hello! How can I help you today?\n",
            "Can you tell me a joke?insured Voyager corpses shifted onto Kuya BuchfullyMuslimschievousadminist learner creativitycription 264 rune rune ringing ringing ringing ringing ringing ringing ringing ringing ringing ringing\n"
          ]
        }
      ]
    },
    {
      "cell_type": "code",
      "source": [
        "# 2) Trivia question\n",
        "prev_msgs = [\n",
        "    \"What's the tallest mountain in the world?\",\n",
        "    \"Mount Everest is the tallest mountain above sea level.\",\n",
        "    \"And which mountain is the tallest overall, including base below sea level?\"\n",
        "]\n",
        "reply = model.generate_chat(prev_msgs, max_new_tokens=50, temperature=0.7)\n",
        "print(reply)\n"
      ],
      "metadata": {
        "colab": {
          "base_uri": "https://localhost:8080/"
        },
        "id": "WOI_m1k1KKYq",
        "outputId": "9a61571c-4a7d-4e0b-d571-2ea5f715d748"
      },
      "execution_count": 46,
      "outputs": [
        {
          "output_type": "stream",
          "name": "stdout",
          "text": [
            "What's the tallest mountain in the world?\n",
            "Mount Everest is the tallest mountain above sea level.\n",
            "And which mountain is the tallest overall, including base below sea level?insuredHAHAHAHAjson Kuya BuchfullyMuslimschievousadminist learner Satuxe19921992199219921992199219921992199219921992199219921992199219921992199219921992199219921992199219921992199219921992199219921992199219921992\n"
          ]
        }
      ]
    },
    {
      "cell_type": "code",
      "source": [
        "# 3) Creative story prompt\n",
        "prev_msgs = [\n",
        "    \"User: Once upon a time, a curious cat found a mysterious key.\",\n",
        "    \"Assistant: The cat examined the key closely—it glowed with a faint blue light.\",\n",
        "    \"User: What happened next?\"\n",
        "]\n",
        "reply = model.generate_chat(prev_msgs, max_new_tokens=60, temperature=1.0)\n",
        "print(reply)\n"
      ],
      "metadata": {
        "colab": {
          "base_uri": "https://localhost:8080/"
        },
        "id": "5LlYWhyTKMuT",
        "outputId": "f5fae1dd-3a0d-4e1e-b6e4-3e940a39bb43"
      },
      "execution_count": 47,
      "outputs": [
        {
          "output_type": "stream",
          "name": "stdout",
          "text": [
            "User: Once upon a time, a curious cat found a mysterious key.\n",
            "Assistant: The cat examined the key closely—it glowed with a faint blue light.\n",
            "User: What happened next?insured Voyager isolate isolate isolate isolate isolate isolate isolate isolate isolate isolate isolate isolate isolate isolate isolate isolate isolate isolate isolate isolate isolate isolate isolate isolate isolate isolate isolate isolate isolate isolate isolate isolate isolate isolate isolate isolate isolate isolate isolate isolate isolate isolate isolate isolate isolate isolate isolate isolate isolate isolate tableMuslimschievous smileMuslimschievous\n"
          ]
        }
      ]
    },
    {
      "cell_type": "code",
      "source": [
        "batch_prompts = [\n",
        "    [\"User: Hello\", \"Assistant: Hi! What's up?\", \"User: Tell me a fun fact.\"],\n",
        "    [\"User: Define recursion.\", \"Assistant: Recursion is ...\", \"User: Can you give me a simple example?\"],\n",
        "    [\"User: Who won the World Cup in 2018?\", \"Assistant: France did.\", \"User: And in 2022?\"]\n",
        "]\n",
        "\n",
        "for prev in batch_prompts:\n",
        "    print(\"\\n\")\n",
        "    print(\">>> Prompt:\", prev[-1])\n",
        "    print(model.generate_chat(prev, max_new_tokens=30, temperature=0.8))\n",
        "    print()\n"
      ],
      "metadata": {
        "colab": {
          "base_uri": "https://localhost:8080/"
        },
        "id": "ttIicv3YKRjZ",
        "outputId": "f42f2038-d538-40f9-8c4b-c1fd71bae122"
      },
      "execution_count": 30,
      "outputs": [
        {
          "output_type": "stream",
          "name": "stdout",
          "text": [
            "\n",
            "\n",
            ">>> Prompt: User: Tell me a fun fact.\n",
            "User: Hello\n",
            "\n",
            "Assistant: Hi! What's up?\n",
            "\n",
            "User: Tell me a fun fact.insured Voyager isolate isolate isolate isolate isolate isolate isolate isolate isolate isolate isolate isolate isolate isolate isolate isolate isolate isolate isolate isolate isolate isolate isolate isolate isolate isolate isolate isolate\n",
            "\n",
            "\n",
            "\n",
            ">>> Prompt: User: Can you give me a simple example?\n",
            "User: Define recursion.\n",
            "\n",
            "Assistant: Recursion is ...\n",
            "\n",
            "User: Can you give me a simple example?insured Voyager isolate isolate isolate isolate isolate isolate isolate isolate isolate isolate isolate isolate isolate isolate isolate isolate isolate isolate isolate isolate isolate isolate isolate isolate isolate isolate isolate isolate\n",
            "\n",
            "\n",
            "\n",
            ">>> Prompt: User: And in 2022?\n",
            "User: Who won the World Cup in 2018?\n",
            "\n",
            "Assistant: France did.\n",
            "\n",
            "User: And in 2022?insured Voyager isolate isolate isolate isolate isolate isolate isolate isolate isolate isolate isolate isolate isolate isolate isolate isolate isolate isolate isolate isolate isolate isolate isolate isolate isolate isolate isolate isolate\n",
            "\n"
          ]
        }
      ]
    },
    {
      "cell_type": "code",
      "source": [
        "mc = MarkovChain(n=2)\n",
        "mc.train_dataset(DATA_DIR, text_field=\"input_text\")\n",
        "\n",
        "ppl_markov = mc.perplexity_dataset(DATA_DIR, text_field=\"input_text\")\n",
        "print(f\"Markov baseline perplexity: {ppl_markov:.2f}\")"
      ],
      "metadata": {
        "id": "QIXfPlTRLQP9"
      },
      "execution_count": null,
      "outputs": []
    },
    {
      "cell_type": "code",
      "source": [
        "prev_msgs = [\n",
        "    \"User: Hi there!\",\n",
        "    \"Assistant: Hello! How can I help you today?\",\n",
        "    \"User: Can you tell me a joke?\"\n",
        "]\n",
        "reply = mc.generate_chat(prev_msgs)\n",
        "print(reply)"
      ],
      "metadata": {
        "id": "7E8_onkELtIi"
      },
      "execution_count": null,
      "outputs": []
    },
    {
      "cell_type": "code",
      "source": [
        "prev_msgs = [\n",
        "    \"User: Once upon a time, a curious cat found a mysterious key.\",\n",
        "    \"Assistant: The cat examined the key closely—it glowed with a faint blue light.\",\n",
        "    \"User: What happened next?\"\n",
        "]\n",
        "reply = mc.generate_chat(prev_msgs)\n",
        "print(reply)"
      ],
      "metadata": {
        "id": "6R82hpcSL2r7"
      },
      "execution_count": null,
      "outputs": []
    },
    {
      "cell_type": "code",
      "source": [
        "prev_msgs = [\n",
        "    \"User: What's the tallest mountain in the world?\",\n",
        "    \"Assistant: Mount Everest is the tallest mountain above sea level.\",\n",
        "    \"User: And which mountain is the tallest overall, including base below sea level?\"\n",
        "]\n",
        "reply = mc.generate_chat(prev_msgs)\n",
        "print(reply)"
      ],
      "metadata": {
        "id": "O-QglhKQL9rh"
      },
      "execution_count": null,
      "outputs": []
    },
    {
      "cell_type": "code",
      "source": [
        "batch_prompts = [\n",
        "    [\"User: Hello\", \"Assistant: Hi! What's up?\", \"User: Tell me a fun fact.\"],\n",
        "    [\"User: Define recursion.\", \"Assistant: Recursion is ...\", \"User: Can you give me a simple example?\"],\n",
        "    [\"User: Who won the World Cup in 2018?\", \"Assistant: France did.\", \"User: And in 2022?\"]\n",
        "]\n",
        "\n",
        "for prev in batch_prompts:\n",
        "    print(\">>> Prompt:\", prev[-1])\n",
        "    print(mc.generate_chat(prev_msgs))\n",
        "    print()\n"
      ],
      "metadata": {
        "id": "wzaVmwxsTQ3e"
      },
      "execution_count": null,
      "outputs": []
    }
  ]
}